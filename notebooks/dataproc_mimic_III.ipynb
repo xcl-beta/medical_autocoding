{
 "cells": [
  {
   "cell_type": "code",
   "execution_count": 1,
   "metadata": {},
   "outputs": [
    {
     "name": "stderr",
     "output_type": "stream",
     "text": [
      "/home/lixc/anaconda3/envs/pytorch/lib/python3.10/site-packages/scipy/__init__.py:146: UserWarning: A NumPy version >=1.16.5 and <1.23.0 is required for this version of SciPy (detected version 1.24.3\n",
      "  warnings.warn(f\"A NumPy version >={np_minversion} and <{np_maxversion}\"\n"
     ]
    }
   ],
   "source": [
    " \n",
    "\n",
    "import sys\n",
    "sys.path.append('../')\n",
    "import datasets\n",
    "import log_reg\n",
    "from dataproc import extract_wvs\n",
    "from dataproc import get_discharge_summaries\n",
    "from dataproc import concat_and_split\n",
    "from dataproc import build_vocab\n",
    "from dataproc import vocab_index_descriptions\n",
    "from dataproc import word_embeddings\n",
    "from constants import MIMIC_3_DIR, DATA_DIR\n",
    "\n",
    "import numpy as np\n",
    "import pandas as pd\n",
    "\n",
    "from collections import Counter, defaultdict\n",
    "import csv\n",
    "import math\n",
    "import operator\n",
    "\n",
    "import os"
   ]
  },
  {
   "cell_type": "code",
   "execution_count": 2,
   "metadata": {},
   "outputs": [
    {
     "data": {
      "text/plain": [
       "('/media/lixc/TOSHIBA EXT/data/mimic/mimicd/data',\n",
       " '/home/lixc/Downloads/data/caml-mimic/mimicdata/mimic3')"
      ]
     },
     "execution_count": 2,
     "metadata": {},
     "output_type": "execute_result"
    }
   ],
   "source": [
    "MIMIC_3_DIR, PROJECT_DIR"
   ]
  },
  {
   "attachments": {},
   "cell_type": "markdown",
   "metadata": {},
   "source": [
    "Let's do some data processing in a much better way, with a notebook.\n",
    "\n",
    "First, let's define some stuff."
   ]
  },
  {
   "cell_type": "code",
   "execution_count": 3,
   "metadata": {
    "collapsed": true
   },
   "outputs": [],
   "source": [
    "Y = 'full' #use all available labels in the dataset for prediction\n",
    "\n",
    "# MIMIC_3_DIR = MIMIC_3_DIR.replace(\" \", \"\\\\ \").replace(\"?\", \"\\\\?\").replace(\"&\", \"\\\\&\").replace(\"(\", \"\\\\(\").replace(\")\", \"\\\\)\").replace(\"*\", \"\\\\*\").replace(\"<\", \"\\\\<\").replace(\">\", \"\\\\>\")\n",
    "# path = os.path.join(filepath,file)\n",
    "notes_file = os.path.join(MIMIC_3_DIR ,\"NOTEEVENTS.csv\") # '%sNOTEEVENTS.csv' % MIMIC_3_DIR # raw note events downloaded from MIMIC-III\n",
    "vocab_size = 'full' #don't limit the vocab size to a specific number\n",
    "vocab_min = 3 #discard tokens appearing in fewer than this many documents"
   ]
  },
  {
   "attachments": {},
   "cell_type": "markdown",
   "metadata": {},
   "source": [
    "## Combine diagnosis and procedure codes and reformat them"
   ]
  },
  {
   "attachments": {},
   "cell_type": "markdown",
   "metadata": {},
   "source": [
    "The codes in MIMIC-III are given in separate files for procedures and diagnoses, and the codes are given without periods, which might lead to collisions if we naively combine them. So we have to add the periods back in the right place."
   ]
  },
  {
   "cell_type": "code",
   "execution_count": 4,
   "metadata": {
    "collapsed": true
   },
   "outputs": [],
   "source": [
    "dfproc = pd.read_csv(os.path.join(MIMIC_3_DIR ,\"PROCEDURES_ICD.csv\"))\n",
    "dfdiag = pd.read_csv(os.path.join(MIMIC_3_DIR ,\"DIAGNOSES_ICD.csv\"))"
   ]
  },
  {
   "cell_type": "code",
   "execution_count": 10,
   "metadata": {},
   "outputs": [
    {
     "data": {
      "text/html": [
       "<div>\n",
       "<style scoped>\n",
       "    .dataframe tbody tr th:only-of-type {\n",
       "        vertical-align: middle;\n",
       "    }\n",
       "\n",
       "    .dataframe tbody tr th {\n",
       "        vertical-align: top;\n",
       "    }\n",
       "\n",
       "    .dataframe thead th {\n",
       "        text-align: right;\n",
       "    }\n",
       "</style>\n",
       "<table border=\"1\" class=\"dataframe\">\n",
       "  <thead>\n",
       "    <tr style=\"text-align: right;\">\n",
       "      <th></th>\n",
       "      <th>ROW_ID</th>\n",
       "      <th>SUBJECT_ID</th>\n",
       "      <th>HADM_ID</th>\n",
       "      <th>SEQ_NUM</th>\n",
       "      <th>ICD9_CODE</th>\n",
       "      <th>absolute_code</th>\n",
       "    </tr>\n",
       "  </thead>\n",
       "  <tbody>\n",
       "    <tr>\n",
       "      <th>0</th>\n",
       "      <td>944</td>\n",
       "      <td>62641</td>\n",
       "      <td>154460</td>\n",
       "      <td>3</td>\n",
       "      <td>3404</td>\n",
       "      <td>34.04</td>\n",
       "    </tr>\n",
       "    <tr>\n",
       "      <th>1</th>\n",
       "      <td>945</td>\n",
       "      <td>2592</td>\n",
       "      <td>130856</td>\n",
       "      <td>1</td>\n",
       "      <td>9671</td>\n",
       "      <td>96.71</td>\n",
       "    </tr>\n",
       "    <tr>\n",
       "      <th>2</th>\n",
       "      <td>946</td>\n",
       "      <td>2592</td>\n",
       "      <td>130856</td>\n",
       "      <td>2</td>\n",
       "      <td>3893</td>\n",
       "      <td>38.93</td>\n",
       "    </tr>\n",
       "    <tr>\n",
       "      <th>3</th>\n",
       "      <td>947</td>\n",
       "      <td>55357</td>\n",
       "      <td>119355</td>\n",
       "      <td>1</td>\n",
       "      <td>9672</td>\n",
       "      <td>96.72</td>\n",
       "    </tr>\n",
       "    <tr>\n",
       "      <th>4</th>\n",
       "      <td>948</td>\n",
       "      <td>55357</td>\n",
       "      <td>119355</td>\n",
       "      <td>2</td>\n",
       "      <td>331</td>\n",
       "      <td>33.1</td>\n",
       "    </tr>\n",
       "  </tbody>\n",
       "</table>\n",
       "</div>"
      ],
      "text/plain": [
       "   ROW_ID  SUBJECT_ID  HADM_ID  SEQ_NUM  ICD9_CODE absolute_code\n",
       "0     944       62641   154460        3       3404         34.04\n",
       "1     945        2592   130856        1       9671         96.71\n",
       "2     946        2592   130856        2       3893         38.93\n",
       "3     947       55357   119355        1       9672         96.72\n",
       "4     948       55357   119355        2        331          33.1"
      ]
     },
     "execution_count": 10,
     "metadata": {},
     "output_type": "execute_result"
    }
   ],
   "source": [
    "dfproc.head()"
   ]
  },
  {
   "cell_type": "code",
   "execution_count": 9,
   "metadata": {},
   "outputs": [
    {
     "data": {
      "text/html": [
       "<div>\n",
       "<style scoped>\n",
       "    .dataframe tbody tr th:only-of-type {\n",
       "        vertical-align: middle;\n",
       "    }\n",
       "\n",
       "    .dataframe tbody tr th {\n",
       "        vertical-align: top;\n",
       "    }\n",
       "\n",
       "    .dataframe thead th {\n",
       "        text-align: right;\n",
       "    }\n",
       "</style>\n",
       "<table border=\"1\" class=\"dataframe\">\n",
       "  <thead>\n",
       "    <tr style=\"text-align: right;\">\n",
       "      <th></th>\n",
       "      <th>ROW_ID</th>\n",
       "      <th>SUBJECT_ID</th>\n",
       "      <th>HADM_ID</th>\n",
       "      <th>SEQ_NUM</th>\n",
       "      <th>ICD9_CODE</th>\n",
       "      <th>absolute_code</th>\n",
       "    </tr>\n",
       "  </thead>\n",
       "  <tbody>\n",
       "    <tr>\n",
       "      <th>0</th>\n",
       "      <td>1297</td>\n",
       "      <td>109</td>\n",
       "      <td>172335</td>\n",
       "      <td>1.0</td>\n",
       "      <td>40301</td>\n",
       "      <td>403.01</td>\n",
       "    </tr>\n",
       "    <tr>\n",
       "      <th>1</th>\n",
       "      <td>1298</td>\n",
       "      <td>109</td>\n",
       "      <td>172335</td>\n",
       "      <td>2.0</td>\n",
       "      <td>486</td>\n",
       "      <td>486</td>\n",
       "    </tr>\n",
       "    <tr>\n",
       "      <th>2</th>\n",
       "      <td>1299</td>\n",
       "      <td>109</td>\n",
       "      <td>172335</td>\n",
       "      <td>3.0</td>\n",
       "      <td>58281</td>\n",
       "      <td>582.81</td>\n",
       "    </tr>\n",
       "    <tr>\n",
       "      <th>3</th>\n",
       "      <td>1300</td>\n",
       "      <td>109</td>\n",
       "      <td>172335</td>\n",
       "      <td>4.0</td>\n",
       "      <td>5855</td>\n",
       "      <td>585.5</td>\n",
       "    </tr>\n",
       "    <tr>\n",
       "      <th>4</th>\n",
       "      <td>1301</td>\n",
       "      <td>109</td>\n",
       "      <td>172335</td>\n",
       "      <td>5.0</td>\n",
       "      <td>4254</td>\n",
       "      <td>425.4</td>\n",
       "    </tr>\n",
       "  </tbody>\n",
       "</table>\n",
       "</div>"
      ],
      "text/plain": [
       "   ROW_ID  SUBJECT_ID  HADM_ID  SEQ_NUM ICD9_CODE absolute_code\n",
       "0    1297         109   172335      1.0     40301        403.01\n",
       "1    1298         109   172335      2.0       486           486\n",
       "2    1299         109   172335      3.0     58281        582.81\n",
       "3    1300         109   172335      4.0      5855         585.5\n",
       "4    1301         109   172335      5.0      4254         425.4"
      ]
     },
     "execution_count": 9,
     "metadata": {},
     "output_type": "execute_result"
    }
   ],
   "source": [
    "dfdiag.head()"
   ]
  },
  {
   "cell_type": "code",
   "execution_count": 5,
   "metadata": {
    "collapsed": true
   },
   "outputs": [],
   "source": [
    "dfdiag['absolute_code'] = dfdiag.apply(lambda row: str(datasets.reformat(str(row[4]), True)), axis=1)\n",
    "dfproc['absolute_code'] = dfproc.apply(lambda row: str(datasets.reformat(str(row[4]), False)), axis=1)"
   ]
  },
  {
   "cell_type": "code",
   "execution_count": 6,
   "metadata": {
    "collapsed": true
   },
   "outputs": [],
   "source": [
    "dfcodes = pd.concat([dfdiag, dfproc])"
   ]
  },
  {
   "cell_type": "code",
   "execution_count": 12,
   "metadata": {},
   "outputs": [
    {
     "data": {
      "text/html": [
       "<div>\n",
       "<style scoped>\n",
       "    .dataframe tbody tr th:only-of-type {\n",
       "        vertical-align: middle;\n",
       "    }\n",
       "\n",
       "    .dataframe tbody tr th {\n",
       "        vertical-align: top;\n",
       "    }\n",
       "\n",
       "    .dataframe thead th {\n",
       "        text-align: right;\n",
       "    }\n",
       "</style>\n",
       "<table border=\"1\" class=\"dataframe\">\n",
       "  <thead>\n",
       "    <tr style=\"text-align: right;\">\n",
       "      <th></th>\n",
       "      <th>ROW_ID</th>\n",
       "      <th>SUBJECT_ID</th>\n",
       "      <th>HADM_ID</th>\n",
       "      <th>SEQ_NUM</th>\n",
       "      <th>ICD9_CODE</th>\n",
       "      <th>absolute_code</th>\n",
       "    </tr>\n",
       "  </thead>\n",
       "  <tbody>\n",
       "    <tr>\n",
       "      <th>0</th>\n",
       "      <td>1297</td>\n",
       "      <td>109</td>\n",
       "      <td>172335</td>\n",
       "      <td>1.0</td>\n",
       "      <td>40301</td>\n",
       "      <td>403.01</td>\n",
       "    </tr>\n",
       "    <tr>\n",
       "      <th>1</th>\n",
       "      <td>1298</td>\n",
       "      <td>109</td>\n",
       "      <td>172335</td>\n",
       "      <td>2.0</td>\n",
       "      <td>486</td>\n",
       "      <td>486</td>\n",
       "    </tr>\n",
       "    <tr>\n",
       "      <th>2</th>\n",
       "      <td>1299</td>\n",
       "      <td>109</td>\n",
       "      <td>172335</td>\n",
       "      <td>3.0</td>\n",
       "      <td>58281</td>\n",
       "      <td>582.81</td>\n",
       "    </tr>\n",
       "    <tr>\n",
       "      <th>3</th>\n",
       "      <td>1300</td>\n",
       "      <td>109</td>\n",
       "      <td>172335</td>\n",
       "      <td>4.0</td>\n",
       "      <td>5855</td>\n",
       "      <td>585.5</td>\n",
       "    </tr>\n",
       "    <tr>\n",
       "      <th>4</th>\n",
       "      <td>1301</td>\n",
       "      <td>109</td>\n",
       "      <td>172335</td>\n",
       "      <td>5.0</td>\n",
       "      <td>4254</td>\n",
       "      <td>425.4</td>\n",
       "    </tr>\n",
       "  </tbody>\n",
       "</table>\n",
       "</div>"
      ],
      "text/plain": [
       "   ROW_ID  SUBJECT_ID  HADM_ID  SEQ_NUM ICD9_CODE absolute_code\n",
       "0    1297         109   172335      1.0     40301        403.01\n",
       "1    1298         109   172335      2.0       486           486\n",
       "2    1299         109   172335      3.0     58281        582.81\n",
       "3    1300         109   172335      4.0      5855         585.5\n",
       "4    1301         109   172335      5.0      4254         425.4"
      ]
     },
     "execution_count": 12,
     "metadata": {},
     "output_type": "execute_result"
    }
   ],
   "source": [
    "dfcodes.head()"
   ]
  },
  {
   "cell_type": "code",
   "execution_count": 13,
   "metadata": {
    "collapsed": true
   },
   "outputs": [],
   "source": [
    "dfcodes.to_csv('%s/ALL_CODES.csv' % MIMIC_3_DIR, index=False,\n",
    "               columns=['ROW_ID', 'SUBJECT_ID', 'HADM_ID', 'SEQ_NUM', 'absolute_code'],\n",
    "               header=['ROW_ID', 'SUBJECT_ID', 'HADM_ID', 'SEQ_NUM', 'ICD9_CODE'])"
   ]
  },
  {
   "attachments": {},
   "cell_type": "markdown",
   "metadata": {},
   "source": [
    "## How many codes are there?"
   ]
  },
  {
   "cell_type": "code",
   "execution_count": 7,
   "metadata": {},
   "outputs": [
    {
     "data": {
      "text/plain": [
       "8994"
      ]
     },
     "execution_count": 7,
     "metadata": {},
     "output_type": "execute_result"
    }
   ],
   "source": [
    "#In the full dataset (not just discharge summaries)\n",
    "df = pd.read_csv('%s/ALL_CODES.csv' % MIMIC_3_DIR, dtype={\"ICD9_CODE\": str})\n",
    "len(df['ICD9_CODE'].unique())"
   ]
  },
  {
   "attachments": {},
   "cell_type": "markdown",
   "metadata": {},
   "source": [
    "## Tokenize and preprocess raw text"
   ]
  },
  {
   "attachments": {},
   "cell_type": "markdown",
   "metadata": {},
   "source": [
    "Preprocessing time!\n",
    "\n",
    "This will:\n",
    "- Select only discharge summaries and their addenda\n",
    "- remove punctuation and numeric-only tokens, removing 500 but keeping 250mg\n",
    "- lowercase all tokens"
   ]
  },
  {
   "cell_type": "code",
   "execution_count": 15,
   "metadata": {},
   "outputs": [
    {
     "name": "stdout",
     "output_type": "stream",
     "text": [
      "processing notes file\n",
      "writing to /media/lixc/TOSHIBA EXT/data/mimic/mimicd/data/disch_full.csv\n"
     ]
    },
    {
     "name": "stderr",
     "output_type": "stream",
     "text": [
      "2083180it [00:59, 35253.66it/s] \n"
     ]
    }
   ],
   "source": [
    "#This reads all notes, selects only the discharge summaries, and tokenizes them, returning the output filename\n",
    "disch_full_file = get_discharge_summaries.write_discharge_summaries(out_file=\"%s/disch_full.csv\" % MIMIC_3_DIR)"
   ]
  },
  {
   "attachments": {},
   "cell_type": "markdown",
   "metadata": {},
   "source": [
    "Let's read this in and see what kind of data we're working with"
   ]
  },
  {
   "cell_type": "code",
   "execution_count": 8,
   "metadata": {
    "collapsed": true
   },
   "outputs": [],
   "source": [
    "df = pd.read_csv('%s/disch_full.csv' % MIMIC_3_DIR)"
   ]
  },
  {
   "cell_type": "code",
   "execution_count": 9,
   "metadata": {},
   "outputs": [
    {
     "data": {
      "text/plain": [
       "52726"
      ]
     },
     "execution_count": 9,
     "metadata": {},
     "output_type": "execute_result"
    }
   ],
   "source": [
    "#How many admissions?\n",
    "len(df['HADM_ID'].unique())"
   ]
  },
  {
   "cell_type": "code",
   "execution_count": 10,
   "metadata": {},
   "outputs": [
    {
     "data": {
      "text/plain": [
       "Index(['SUBJECT_ID', 'HADM_ID', 'CHARTTIME', 'TEXT'], dtype='object')"
      ]
     },
     "execution_count": 10,
     "metadata": {},
     "output_type": "execute_result"
    }
   ],
   "source": [
    "df.columns"
   ]
  },
  {
   "cell_type": "code",
   "execution_count": 11,
   "metadata": {},
   "outputs": [
    {
     "data": {
      "text/plain": [
       "array(['admission date discharge date service medicine allergies patient recorded as having no known allergies to drugs attending first name3 lf chief complaint chest discomfort dizziness blask stool major surgical or invasive procedure egd history of present illness yo m with cad s p cabg on coumadin for afib post surgical presents with to ed from rehab with evidence of ugib pt was discharged from hospital1 to rehab and was doing well it appears that he was treated for of incisional infection with diclox on the evening of pt c o diaphoresis nausous and a chest discomfort that felt different than his anginal equivalent and transferred to hospital1 for further eval on arrival pt reports black stools for days he denied hematemsis however in the ed witnessed coffee ground emesis ngt was place and hematemsis did not clear to 500cc ng lavage in ed vs hr bp initial hct and inr two ga ivs placed in right arm given anzimet protonix 2uprbc 3uffp vitamin k 5mgsubq after 2uprbc hct remained so pt admitted to micu for further ebvaluation of note during recent admission for cabg his admission hct was to post op on was transfused units on and hct went from to but then trended down to mid20s and was on the day of discharge to rehab past medical history cad s p cabgx on normal ef breast cancer s p right mastectomy afib on coumadin oa hiatal hernnia glaucoma hyperlipidemia htn myelodysplastic syndrome w leukocytosis recently social history the patient lives with his wife in name ni but currently in rehab post cabg a positive history of tobacco pack year quit years prior and denies alcohol use or abuse family history nc physical exam vs 2l pe gen obese pale man in nad heent perrl eomi op wnl dry mm neck supple no jvd cvs rrr nl s1 s2 no m r g chest ctab sternotomy wound c d i abd soft nt nd nabs no hsm ext pedal edema neuro a o3 cns intact strength pertinent results 00am blood wbc rbc hgb hct mcv mch mchc rdw plt ct 30pm blood wbc rbc hgb hct mcv mch mchc rdw plt ct 11am blood wbc rbc hgb hct mcv mch mchc rdw plt ct 17am blood hct 45pm blood wbc rbc hgb hct mcv mch mchc rdw plt ct 50am blood wbc rbc hgb hct mcv mch mchc rdw plt ct 00am blood neuts bands lymphs monos eos baso atyps metas myelos 40am blood neuts bands lymphs monos eos baso atyps metas myelos 00am blood pt ptt inr pt 30pm blood pt ptt inr pt 50am blood pt ptt inr pt 00am blood glucose urean creat na k cl hco3 angap 45pm blood glucose urean creat na k cl hco3 angap 50am blood urean creat k 00am blood ck cpk 40am blood ck cpk 30pm blood ck cpk 11am blood ck cpk 00am blood ctropnt 40am blood ctropnt 30pm blood ck mb notdone ctropnt 11am blood ck mb notdone ctropnt 11am blood calcium phos mg cxr stable cardiomegaly without evidence of congestive heart failure small right pleural effusion left costophrenic angle excluded from the study no focal consolidations left base atelectasis without definite pneumonia no chf egd 8mm bleeding ulcer in body of stomach hemostasis achieved with epi and bicap brief hospital course yo m with cad s p cabg af on coumadin mds with recent leukocytosis p w melena ugib ugib pt presents to ed with melena and hematesis in setting of coumadin use in name ni pt given ivf along with u prbcs inr was reversed with 5mg vit k sq and ffp given since pt was actively bleeding pt with minimal response to total units of prbcs gastroenterology service consulted who proceeded with egd that evening in the micu a mm bleeding ulcer in the body of the stomach was found after application of epinephrine and bicap hemostasis was acheived pt remained hd stable throughout pt recieved a total of units of prbc in first hours and hct stabilized pt placed on bowel rest protonix iv started and cardiac medications held serial hct checked and on hd pt stable for transfer from micu to general medicine floor diet advanced slowly and diet advanced as tolerated hct responded to previous transfusions and hct maintained above upon discharge egd bx returned being positive for h pylori pt to be discharged home on protonix tetracycline and flagy times weeks did not choose biaxin due to interactions with amiodarone pt to follow up with dr first name stitle on for repeat egd afib pt with hisory of af post cabg for which he was placed on amio and coumadin with proper anticoagulation on presentation inr and reversed with a total of 10mg vitk sq and at discharge was pt to not continue taking coumadin upon discharge pt as outpatient on amiodarone and will continue after discharge unsure as to plan for total length of treatment for post cabg af with amio pt to follow up with dr last name stitle at which time it should be addressed cad pt with cad s p cabg who presents from rehab with ugib as above asa and bb held once pt stabilized lopressor was restarted and pt tolerated it well pt to stop taking asa until decision is made to restart post follow up egd because of chest discomfort pain pt was ruled out for mi by cardiac enzymes pt maintained on tele without event pt to follow up with ct doctor first name dr last name stitle on wed to asses sternotomy wound and post cabg f u pt to be discharged home on atenolol mg daily pt should benefit from acei and will be s c home on low dose lisinopril pt will need repeat chemistry checked as outpatient htn pt with h o htn for which he was on amlodopine ccb held during stay because of ugib pt remained relatively normotensive decision made for pt to discontinue ccb until evaluated by pcp or cardiologist pt to follow up with dr last name stitle on tuesday at which point home medical regimen should be reviewed chf no documented of chf by cath results ef60 however pt has not had an echo pt maintened on home regimen of lasix mg daily for which he will be discharged on pt without evidence of decompensated chf during stay pt should benefit from acei and will be s c home on low dose lisinopril dipso pt seen by pt while in hospital they felt he was no longer in need for acute rehab he is being discharged home with services including pt and cardiac rehab medications on admission asa coumadin amio hospital1 amlodopine lopressor hospital1 lasix qd doxazosin qd lipitor colace percocet prn neurontin hospital1 allopurinol timolol discharge medications gabapentin mg capsule sig two capsule po bid times a day hospital1 capsule s refills allopurinol mg tablet sig one tablet po daily daily hospital1 tablet s refills amiodarone hcl mg tablet sig two tablet po daily daily hospital1 tablet s refills pantoprazole sodium mg tablet delayed release e c sig one tablet delayed release e c po once a day take until told otherwise by doctor last name titles tablet delayed release e c s refills timolol maleate drops sig one drop ophthalmic hospital1 times a day brimonidine tartrate drops sig one drop ophthalmic hospital1 times a day atenolol mg tablet sig one tablet po once a day hospital1 tablet s refills lisinopril mg tablet sig one tablet po once a day hospital1 tablet s refills doxazosin mesylate mg tablet sig one tablet po once a day hospital1 tablet s refills colace mg capsule sig one capsule po twice a day hospital1 capsule s refills lasix mg tablet sig one tablet po once a day hospital1 tablet s refills lipitor mg tablet sig one tablet po once a day hospital1 tablet s refills flagyl mg tablet sig one tablet po four times a day for weeks hospital1 tablet s refills tetracycline hcl mg capsule sig one capsule po four times a day for weeks hospital1 capsule s refills discharge disposition home with service facility hospital homecare discharge diagnosis upper gi bleed peptic ulcer disease h pylori coronary artery disease discharge condition good discharge instructions please take all medications as prescribed you will no longer take aspirin coumadin or amlodopine you may restart taking aspirin after you ve had a follow up egd to look at your ulcer and tald you may restart it please attend all follow up appointments if unable rechedule as soon as possible please call your pcp or go to ed if fever chest pain shortness of breath dizziness persistent vomitting or diarrhea black stool vomit with coffe grounds black particles or blood in stool or vomit followup instructions please follow up with your pcp name10 nameis last name stitle telephone fax on tuesday at am please follow up with your cardiothoracic surgeon dr first name11 name pattern1 initial namepattern1 last name namepattern1 telephone fax wednesday at at last name namepattern1 hospital unit name call with questions please follow up with dr first name8 namepattern2 last name namepattern1 to have a repeat egd to evaluate your stomach ulcer on at am provider name10 nameis west room four gi rooms where gi rooms date time provider first name8 namepattern2 last name namepattern1 first name3 lf procedures endoscopy suites where first name8 namepattern2 hospital ward name building hospital ward name hospital ward name complex endoscopy suite phone telephone fax date time',\n",
       "       'admission date discharge date date of birth sex f service date of discharge pending age history of the present illness known firstname last name namepattern1 is a year old female who was at acute rehabilitation at location un after having a right sided knee replacement on the patient had been on antibiotics following her knee replacement and had developed abdominal pain two weeks prior to admission with diarrhea the patient was presumed to have c difficile and had been started on flagyl she was taken to the hospital1 emergency department and on presentation she had a white blood cell count of large amounts of nausea and fevers up to degrees of note the patient had been on flagyl since until the patient s presentation on review of systems review of systems was negative for dysuria past medical history history was notable for the following osteoarthritis left sided breast cancer diverticulitis gastrointestinal bleed fibromyalgia medications on admission coumadin vistaril tamoxifen zoloft protonix ditropan doctor first name lasix allergies the patient is allergic to sulfa and ibuprofen social history the patient has no history of alcohol drugs or smoking physical examination on presentation the patient s physical examination revealed the following temperature heart rate blood pressure respiratory rate oxygen saturation she was ill appearing on presentation with a diffusely tender abdomen with positive rebound and no guarding stool was guaiac negative hospital course the patient was then admitted medical service initially for management of her presumed c difficile colitis the patient was admitted to the medical service postoperatively and then was noted to have pleural effusion and then underwent a thoracocentesis of her effusion on the 14th the patient continued to have poor hospital course and on due to difficult medical management of the disease surgical consultation was obtained and the patient underwent a subtotal colectomy with ileostomy regarding the patient s operation please referred to dr name ni operative note on postoperatively the patient was taken to the medical intensive care unit for further management of her disease she underwent numerous transfusion of fresh frozen plasma the patient was continued to be intubated the patient was managed in the medical intensive care unit with bilateral chest tubes placed while the patient was in the medical intensive care unit the patient continued to have high fevers sputum culture from demonstrated methicillin resistant staphylococcus aureus and transthoracic cardiac echocardiogram demonstrated no pericardial effusion or no obvious vegetations while the patient continued to have these fevers the patient was continued on vancomycin and continued to be intubated for a long period of time until when the patient was extubated successfully post extubation the patient had difficulty with her voice and swallowing and she was deemed an aspiration risk so dobbhoff was placed she was then transferred to the floor and she continued to do well chest tubes were removed and she stopped having fevers physical therapy consultation was obtained and the patient began to improved dramatically while on the floor she remained afebrile with stable vital signs with reasonable respiratory parameters and she was continued on tube feeds or promote with fiber at a goal rate of cc per hour the patient will be discharged to a rehabilitation facility on the following regimen lopressor mg po t i d ambien mg po q h s vancomycin gram q d heparin units subcutaneously b i d regular insulin sliding scale protonix mg iv q d the patient will continue on her tube feeds promote with fiber at cc an hour follow up care the patient will followup with dr last name stitle in one to two weeks the patient will followup with her primary care physician at the time deemed appropriate by their office of note portions of this chart were not available during this dictation first name11 name pattern1 last name namepattern4 m d md number dictated by name8 md medquist36 d t job job number',\n",
       "       'admission date discharge date service cardiothoracic allergies bactrim daypro attending first name3 lf chief complaint incidental finding of thoracic aortic anuerysm major surgical or invasive procedure total aortic arch replacement reimplantation of cephalic vessels history of present illness incidental finding of ascending aortic aneurysm on ct scan obtained s p fall past medical history familial thrombocytopenia hiatal hernia gerd htn osteoporosis r shoulder replacement colonic polyps removal cataract surgery social history lives with husband retired denies tobacco use rare etoh family history cousin died of anuerysm at age mother with chf physical exam 81yo in chair nad hoarse neuro aa ox3 nonfocal chest ctab resp unlab median sternotomy stable c d i no d c rrr no m r g chest tubes and epicardial wires removed abd s nt nd bs ext warm with trace edema pertinent results 10am blood wbc rbc hgb hct mcv mch mchc rdw plt ct 10am blood pt ptt inr pt 00am blood glucose urean creat na k cl hco3 angap radiology final report chest portable ap am chest portable ap reason assess for ptx or effusion hospital medical condition year old woman with s p replacement of asc aorta and arch and ct removal reason for this examination assess for ptx or effusion portable chest comparison indication chest tube removal evaluate for pneumothorax there has been interval slight decrease in size of a loculated left apical hydropneumothorax small small to moderate left pleural effusion is probably unchanged allowing for positional differences cardiac and mediastinal contours are stable poorly defined right mid lung zone opacity and focal linear right basilar opacity are without change there is a questionable small right pleural effusion impression slight decrease in size of loculated left apical hydropneumothorax dr first name11 name pattern1 initial namepattern1 last name namepattern4 approved mon pm cardiology report echo study date of patient test information indication intra op tee for resection of ascending aortic aneurysm height in weight lb bsa m2 m2 bp mm hg hr bpm status inpatient date time at test tee complete doppler full doppler and color doppler contrast none tape number 2006aw590 test location anesthesia west or cardiac technical quality adequate referring doctor dr first name stitle last name prefixes measurements aorta ascending cm nl cm aortic valve peak velocity m sec nl m sec interpretation findings left atrium normal la size right atrium interatrial septum normal ra size no asd by 2d or color doppler left ventricle normal lv wall thickness suboptimal technical quality a focal lv wall motion abnormality cannot be fully excluded mild regional lv systolic dysfunction mildly depressed lvef no resting lvot gradient lv wall motion regional lv wall motion abnormalities include mid inferior hypo right ventricle normal rv chamber size and free wall motion aorta mildly dilated aortic root markedly dilated ascending aorta moderately dilated descending aorta aortic valve three aortic valve leaflets mildly thickened aortic valve leaflets no as mild to moderate ar mitral valve mildly thickened mitral valve leaflets mild mr tricuspid valve mild tr pericardium no pericardial effusion general comments a tee was performed in the location listed above i certify i was present in compliance with hcfa regulations no tee related complications the patient was under general anesthesia throughout the procedure the patient appears to be in sinus rhythm results were personally conclusions pre bypass limited view of the heart from upper esophageal views lv function assessed from transgastric views the left atrium is normal in size no atrial septal defect is seen by 2d or color doppler left ventricular wall thicknesses are normal due to suboptimal technical quality a focal wall motion abnormality cannot be fully excluded there is mild regional left ventricular systolic dysfunction the inferior wall of the lv is mildly hypokinetic overall left ventricular systolic function is mildly depressed right ventricular chamber size and free wall motion are normal the aortic root is mildly dilated the ascending aorta is markedly dilated the descending thoracic aorta is moderately dilated there is a thrombus seen in the descending aorta at the level of the left subclavian take off the aorta at this level measures cm there is a well formed sinotubular junction and it measures cm there are three aortic valve leaflets the aortic valve leaflets are mildly thickened there is no aortic valve stenosis mild to moderate aortic regurgitation is seen the mitral valve leaflets are mildly thickened mild mitral regurgitation is seen the views of the mitral valve was very limited because the aortic aneurysm was distorting the anatomy there is no pericardial effusion post bypass lv function much the same however rv function is moderately depressed globally somewhat better with a bolus of milrinone and epinephrine graft seen in the ascending aorta arch and descending aorta aortic insuffciency present at the end of the procedure electronically signed by name6 md name8 md md on location un physician brief hospital course mrs known lastname was admitted to the hospital1 on for further management of her ascending aortic anuerysm she was taken to the catheterization lab where she was found to have moderate lad disease given the severity of her disease the cardiac surgical service was consulted for surgical repair of her aorta she was worked up in the usual preoperative manner including an echocardiogram which revealed trace aortic insufficiency mitral regurgitation aortic insufficincy on mrs known lastname was taken to the operating room she underwent a total arch replacement with reimplatation of cephalic vessels postoperatively she was taken to the cardiac surgical intensive care unit for monitoring on postoperative day one she awoke neurologically intact and was extubated a bedside swallow evaluation was obtained for oral and pharyngeal dysphagia which was inconclusive ent was consulted and determined that she had paresis of her left true vocal cord beta blockade and aspirin were resumed she was gently diuresed towards her preoperative weight on pod her pressors were weaned chest tubes were removed beta blockade and aspirin were resumed she was gently diuresed towards her preoperative weight on pod the ep service was consulted regarding her remaining pacemaker dependent in heart block the physical therapy service was consulted to assist with her postoperative strength and mobility on pod mrs known lastname was reintubated with insertion of chest tubes for pleural effusions on pod she had a ppm implanted she continued to have post operative atrial fibrillation for which anticoagulation was started on pod her chest tubes were again removed and a video swallow was performed that did show her left vocal cord paresis her epicardial pacing wires were removed without incident on pod she had decreased urine output which was responsive to fluid boluses on pod her sternotomy incision was clean dry and intact without evidence of infection she was discharged to an extended care facility on pod with services in good condition cardiac diet sternal precautions and instructed to follow up with her pcp and cardiologist in weeks she will follow up with dr last name stitle in two weeks medications on admission cozaar hctz atenolol fosamax 70qweek doctor first name citracal mvi discharge medications potassium chloride meq packet sig one packet po q12h every hours disp packet s refills docusate sodium mg capsule sig one capsule po bid times a day disp capsule s refills aspirin mg tablet delayed release e c sig one tablet delayed release e c po daily daily disp tablet delayed release e c s refills acetaminophen mg tablet sig two tablet po q4h every hours as needed disp tablet s refills magnesium hydroxide mg ml suspension sig thirty ml po hs at bedtime as needed for constipation disp qs ml s refills albuterol ipratropium mcg actuation aerosol sig two puff inhalation q4h every hours disp qs qs refills fluticasone mcg actuation aerosol sig two puff inhalation hospital1 times a day disp qs qs refills atorvastatin mg tablet sig one tablet po daily daily disp tablet s refills pantoprazole mg tablet delayed release e c sig one tablet delayed release e c po q24h every hours disp tablet delayed release e c s refills metoprolol tartrate mg tablet sig one tablet po bid times a day disp tablet s refills furosemide mg tablet sig one tablet po once a day for days disp tablet s refills warfarin mg tablet sig tablets po daily daily dosage will vary based on inr disp tablet s refills alprazolam mg tablet sig tablets po qhs once a day at bedtime as needed disp tablet s refills tramadol mg tablet sig one tablet po q4 6h every to hours as needed disp tablet s refills discharge disposition extended care facility male first name un nursing center hospital1 discharge diagnosis ascending aortic anuerysm thrombocytonpenia familial hiatal hernia gerd htn osteoporosis discharge condition good discharge instructions shower wash incisions with mild soap and water and pat dry no lotions creams or powders to incisions call with fever redness or drainage from incision or weight gain more than pounds in one day or five pounds in one week no lifting more than pounds for weeks no driving until follow up with surgeon followup instructions dr last name stitle in two weeks telephone fax dr doctor last name in one week telephone fax dr last name stitle ent in two weeks telephone fax ep device clinic phone telephone fax date time completed by',\n",
       "       'admission date discharge date service micu history of present illness mr known lastname is an year old male admitted to the medical intensive care unit for gastrointestinal bleed hypotension this gentlemen was recently admitted one month ago for chronic obstructive pulmonary disease flare deep vein thrombosis and pulmonary embolus and was discharged to hospital3 where he was noted today on the day of admission to have cc of bright red blood per rectum and hypotension systolic in the 80s he had been started on lovenox in the hospital and on coumadin prior to being discharged for his venous thromboembolic disease his last documented inr was two days prior to admission patient denied any fevers abdominal pain nausea or vomiting chest pain shortness of breath dizziness or lightheadedness he has never had gastrointestinal bleeds in the past past medical history recent deep vein thrombosis pe and discharged for same condition on he also has a remote deep vein thrombosis several years ago chronic obstructive pulmonary disease on two liters of home at night never intubated and not on chronic steroids however is frequently on steroid tapers he is also status post blood resection hypertension prior cva with right sided weakness benign prostatic hypertrophy osteoporosis a neuropathy status post appendectomy ventricular ectopy and nonsustained ventricular tachycardia and he did have an echocardiogram in showing an ejection fraction of right upper lobe mass seen on ct on the most recent admission and also noticed on chest x ray of this admission whose cause is unknown but is most likely felt to be malignant in nature medications prednisone mg q d on taper lansoprazole aspirin zestril finasteride senna coumadin fosamax lasix albuterol atrovent mdis flovent allergies patient denies any medical allergies social history he lives with his wife of years and he quit smoking years ago after an extensive pack year history he is a retired lawyer in the area hospital course in the emergency room the patient was hypotensive in the 80s systolic range a femoral groin line was placed and he was resuscitated with normal saline units of fresh frozen plasma and four units of packed red blood cells nasogastric lavage revealed small amount of coffee ground material and a small bright red clot which cleared with less than cc normal saline in the emergency department he also received treatment for hypercalcemia in the setting of his ectopy seen on monitor echocardiogram was obtained which showed st depressions in the lateral segments and a chest x ray revealed no pulmonary edema persistence of the right upper lobe mass and flattened diaphragm chest x ray was repeated after fluid resuscitation and remained unchanged upon medical intensive care unit evaluation physical examination showed a temperature of heart rate of with frequent premature ventricular contractions blood pressure respiratory rate of oxygen saturation on three liters per minute generally she was tachypneic with retractions and using accessory muscles with copious upper airway secretions head eyes ears nose and throat significant for conjunctival pallor pupils equal round and reactive to light extraocular movements intact neck was supple without any lymphadenopathy and difficult to assess the jugular venous pressure due to the retractions there was no thyromegaly cardiovascular was tachycardic without murmurs rubs or gallops lungs were extraordinarily decreased breath sounds with expiratory wheezing no crackles were noted abdomen was soft nontender with hyperactive bowel sounds and no hepatosplenomegaly the rectal exam was deferred secondary to the perfuse amounts of maroon stool seen in his exam his extremities were without edema warm and without palpable pulses in the feet laboratory values significant for a hematocrit of which subsequently decreased to after intravenous fluid resuscitation and a white blood cell count of potassium is coags were unable to be obtained secondary to a laboratory error on the sample of blood prior to fresh frozen plasma being administered hospital course an abdominal ct was performed revealing only a slightly dilated head of the pancreas consistent with ipmt the remainder of his abdominal laboratories were normal patient was taken to interventional radiology that night for angiography which revealed a small blush in the duodenum which was coiled at that time by interventional radiology initials namepattern4 last name namepattern4 filter was also placed in the ivc by interventional radiology at the same time cells in the emergency department and he was admitted to the intensive care unit for observation and had a esophagogastroduodenoscopy the following morning which revealed only small superficial erosions and no frank ulcerations in the duodenum his hematocrit remained stable and he was transferred to the floor on the floor he had a left ij placed and his femoral line was removed about the same time he was noted to have approximately a liter of maroon stools and also an expanding groin hematoma at the site of the line removal emergent ultrasound of the right groin revealed a heterogenous flow in the however no direct fistula was seen patient was found to have had a hematocrit drop of points so he was transferred back to the intensive care unit and received another three units of packed red blood cells he had a repeat esophagogastroduodenoscopy which again showed only superficial mucosal erosions and no blood he was kept npo and observed and colonoscopy was performed by gastrointestinal in the intensive care unit which revealed diverticula however no evidence of bleeding on hospital day seven he has had clear rectal affluent from his golytely prep his diet has been advanced to clears and his hematocrit has remained stable at and he is called out to the floor final diagnosis problem list name2 ni l bleed unclear source given the positive angiographic findings and lack of findings on esophagogastroduodenoscopy times two and negative colonoscopy his second visit to the intensive care unit regarding his decreased hematocrit may have been related to his groin hematoma as opposed to a new gastrointestinal bleed if he re bleeds again he should have a bleeding scan obtained promptly and gastrointestinal should be re consulted otherwise he will continue to be on protonix and his diet should be advanced soon to full as he has been without nutrition for seven days right thigh hematoma a repeat ultrasound demonstrated a cfv at a cfa fistula this will need to be followed over time there was no discrete aneurysm or pseudoaneurysms seen and there was no flow seen in the hematoma indicating a stable lesion it is likely that the triple lumen catheter passed through the artery and then was cannulated in the vein vascular surgery is following this patient for this problem venous thromboembolic disease initials namepattern4 last name namepattern4 filter was placed as the patient is not a candidate for anticoagulation at this point intermittent atrial fibrillation while in the intensive care unit the patient has multiple premature ventricular contractions and ectopy and also has atrial fibrillation however again we will not anticoagulate given his ongoing gastrointestinal bleeding issues chronic obstructive pulmonary disease the patient has severe lung disease and he will continue using a steroid taper he will continue to receive his inhaled steroids ipratropium and albuterol right upper lobe mass most likely being malignancy given his extensive smoking history and the persistence of this mass over a one month time his wife is aware of this as is his primary pulmonologist dr last name stitle the wife and dr last name stitle have decided that it is not in the patient s best interest to discuss it with him at this time in the setting of this acute illness however it should be addressed with him at some point in the future it is likely given his poor underlying pulmonary status that he will die with this lesion as a result from it thrombocytopenia prior to this admission the patient had been noted to have platelets in the range however on this admission the patient had platelets in the 000s and drifting down to and range all of his heparin was stopped including it in his flushes and a hit antibody was sent the first hit antibody was negative however a repeat hit is pending until this comes back the patient should be off all heparin leukocytosis most likely related to his prednisone and may also be related to his likely pulmonary malignancy prophylaxis he is on pneumatic boots and proton pump inhibitors and no heparin should be used at this time access he has a triple lumen catheter in his left ij code status he is do not resuscitate do not intubate however but after long discussion with the patient and his wife and with dr last name stitle who will act as his primary care physician during this admission he may be cardioverted once should he have an episode of vtvf which is not an unreasonable condition given the frequency of the ectopy which he demonstrates on the cardiac monitor last name lf first name3 lf dictated by last name namepattern1 medquist36 d t job job number',\n",
       "       'name known lastname known firstname unit no numeric identifier admission date discharge date date of birth sex m service addendum hospital course gastrointestinal bleed since last dictation on the 14th the patient has had stable hematocrit values ranging between and the patient was maintained on protonix p o b i d and gi and surgery have signed off av fistula at the right proximal sfa level the patient had no signs or symptoms of compartment syndrome since dictation on the 14th vascular surgery has signed and recommended follow up with a right femoral ultrasound in one month and he is to follow up with vascular surgery in one month these have been scheduled for the patient infectious disease the patient was found to be c difficile positive during this hospitalization the patient was started on flagyl treatment on the patient is to complete a day course of flagyl and will need reassessment at hospital rehabilitation the patient had no signs or symptoms of toxic symptoms during this hospitalization chronic obstructive pulmonary disease on home oxygen the patient was maintained on prednisone mg p o q d and will have to continue the dose of steroids for seven days at this time the patient seems to be functioning better in terms of his lungs he can be tapered to mg p o q d the rest of the taper will be dictated by dr last name stitle additionally the patient has to be maintained on albuterol and atrovent nebs as well as fluticasone inhalers recurrent dvts and pes the patient had a vena caval filter placed during this hospitalization the patient is not to undergo any anticoagulation until cleared by dr last name stitle right upper lobe opacity a right upper lobe opacity was seen on chest x ray and ct one month ago this is likely to be a malignancy secondary to dr last name stitle and the patient s wife wishes a decision was made not to make the patient aware of this mass dr last name stitle plans to inform the patient of this mass during his next clinic visit no work up is indicated right now paroxysmal atrial fibrillation the patient will not undergo anticoagulation given his right thigh hematoma and massive gi bleed thrombocytopenia the patient has thrombocytopenia of unclear etiology the patient had two negative antibodies during this hospitalization the patient did not have any evidence of pancytopenia or splenomegaly during this hospitalization code status the patient remained dnr dni however could be shocked as many times for vf or vt per dr last name stitle condition on discharge the patient was stable on l nasal cannula with nebulizer treatment discharge status the patient will be discharged to hospital rehabilitation discharge diagnosis chronic obstructive pulmonary disease exacerbation av fistula c difficile infection gastrointestinal bleed recurrent deep venous thromboses and pulmonary emboli right upper lobe opacity paroxysmal atrial fibrillation thrombocytopenia discharge medications fluticasone mcg puffs inh b i d combivent puffs inh q hours albuterol puffs q hours p r n tylenol mg tab p o q hours p r n pantoprazole mg p o b i d cillium packet p o b i d flagyl mg p o t i d x days total albuterol neb q hours plus q hours p r n prednisone mg p o q d x days then mg p o q d x days and this should not be stopped until reassessment by dr last name stitle furosemide mg p o q d ipratropium neb inh q hours plus q hours p r n follow up the patient is to follow up with dr first name8 namepattern2 name stitle on a m his new primary care physician the patient is to follow up with dr last name stitle of vascular surgery on the patient is to have a right femoral ultrasound on a m to follow his av fistula first name11 name pattern1 initials namepattern4 last name namepattern4 m d md number dictated by dictator info medquist36 d t job job number',\n",
       "       'admission date discharge date service general surgery blue history of present illness the patient is a year old lady with diabetes mellitus coronary artery disease dementia and colonic polyp which was removed during colonoscopy who presented with bright red blood per rectum starting the day prior to presentation the patient had similar episode in and was found to have numerous colonic polyps the day prior to presentation she started complaining about lower abdominal crampy pain after having massive bright red blood per rectum with clots past medical history diabetes mellitus type coronary artery disease congestive heart failure echocardiogram showed an ejection fraction of mitral regurgitation tricuspid regurgitation hypercholesterolemia chronic atrial fibrillation migraines nasal polyp venous stasis and chronic edema chronic renal insufficiency depression degenerative joint disease colonic polyps status post gastrointestinal bleed in peripheral vascular disease status post lower extremity bypass past surgical history status post left lower extremity bypass status post appendectomy status post total abdominal hysterectomy and bilateral salpingo oophorectomy from menorrhagia at age of medications on admission cozaar mg p o once daily celexa mg once daily zaroxolyn mg once daily calcitriol once daily nph units once daily allergies sulfa rash keflex diarrhea social history the patient lives alone in assisted facility the patient denies tobacco and alcohol use physical examination the patient is pleasant and cooperative in no acute distress temperature is pulse blood pressure heart rate oxygen saturation in room air mucous membranes are moist lungs are clear to auscultation bilaterally decreased breath sounds inferiorly heart irregular rhythm regular rate ii vi systolic ejection murmur the abdomen is obese soft nontender extremities edema warm laboratory data white blood cell count was hematocrit platelet count sodium potassium chloride bicarbonate blood urea nitrogen creatinine glucose prothrombin time partial thromboplastin time inr urinalysis negative hospital course the patient was admitted to medicine service and placed in the intensive care unit surgery was consulted nasogastric tube was placed the patient was typed and crossed and transfused to keep her hematocrit above red blood cell scan was performed the patient s coagulopathy was reversed with vitamin k and fresh frozen plasma on hospital day number two the patient is afebrile and vital signs are stable the patient continued to have some bright red blood per rectum transfused to keep hematocrit above bleeding scan localized bleeding into the area of the cecum gastroenterology was also consulted who at that time recommended correcting coagulopathy and conservative management the patient remained in the intensive care unit for observation her bleeding has stopped by itself she was transferred to the floor on the patient again started bleeding with bright red blood per rectum and hematocrit dropped anemia the patient was again typed and crossed and transfused to keep hematocrit above surgery was reconsulted at that time the patient s bleeding stopped by itself surgery requested cardiology consultation the patient had a swan ganz catheter placed for cardiac monitoring she was also started on lopressor for cardiac prophylaxis however overnight the patient started bleeding again she was then taken to the operating room on for right hemicolectomy please see operative note for details the patient tolerated the procedure well and was transferred back to intensive care unit in stable condition postoperative day number one the patient is afebrile and vital signs are stable she is diuresing well and unable to wean off ventilator due to edema she was started on tpn for failure to thrive she was also placed on vancomycin levofloxacin and flagyl vancomycin for staphylococcus aureus urinary tract infection she also was started on lasix however she did not really respond well to it and it was stopped the patient continued diuresis the patient had a couple episodes of bradycardia down to high 30s low 40s her lopressor was stopped which improved her bradycardia heart rate in high 50s and low 60s the patient self extubated on postoperative day number three nasogastric tube was removed she was started on sips and advanced to clears which she was tolerating well she continued on tpn she started with physical therapy she continued on vancomycin for urinary tract infection until second urine culture came back positive on postoperative day number four the patient is afebrile and vital signs are stable she was started on p o medications she was also restarted on cozaar for blood pressure control second culture came back as mssa the patient was switched to oxacillin the patient was transferred to regular floor her foley was removed at renal service suggestion she was started on epogen and zaroxolyn her diet was advanced to regular diabetic diet which she was tolerating well she was walking with physical therapy on postoperative day five and six the patient is afebrile and vital signs are stable she is ambulating a few steps and moving from bed to chair with physical therapy the wound is clean dry and intact she is confused at times however this is the patient s baseline otherwise she is stable with no concerns no active issues at this time condition on discharge good disposition the patient is discharged to rehabilitation with physical therapy on diabetic diet the patient should remain on epogen until she is followed up with primary care physician to determine length of treatment medications on discharge tylenol one to two tablets p o q4 6hours p r n pain celexa mg p o once daily triamcinolone ointment applied to affected areas twice a day sarna lotion twice a day compazine mg q6hours p r n benadryl mg p o q h s p r n calcium carbonate mg p o three times a day with meals calcitriol mcg once daily regular insulin sliding scale please see sliding scale for details metolazone mg once daily losartan mg p o once daily epoetin units two tablets a week lasix mg p o once daily protonix mg p o once daily discharge diagnoses lower gastrointestinal bleed status post right hemicolectomy hypovolemia requiring blood and fluid rescucitation urinary tract infection on this admission diabetes mellitus coronary artery disease congestive heart failure hypercholesterolemia chronic atrial fibrillation migraines venous stasis and chronic edema chronic renal insufficiency depression degenerative joint disease peripheral vascular disease postoperative anemia failure to thrive episodic bradycardia malnutrition requiring parenteral nutrition first name8 namepattern2 last name namepattern1 m d md number dictated by last name stitle medquist36 d t job job number',\n",
       "       'admission date discharge date service history of present illness the patient is a year old female with a history of chronic atrial fibrillation on coumadin type diabetes and peripheral vascular disease who presented with pain and bleeding from her rectum and inr the patient reports that she has had intermittent bleeding oozing from her nose over the past several days as well as gum bleeding when she is brushing her teeth for the same period of time notes increased frequency of stools of loose consistency described as chocolate syrup mixed with blood clots had routine pt inr done today by the vna which showed an elevated inr and directed to the emergency department by her primary care physician name10 nameis denies syncope lightheadedness shortness of breath chest pain palpitations no abdominal pain nausea vomiting or reflux symptoms no history of peptic ulcer disease reports having routine colonoscopy done several years ago in state which showed polyps in the emergency department her vital signs were stable hematocrit inr and also had increased ptt as well as bun and creatinine she received units of fresh frozen platelets mg of intravenous vitamin k and units of packed red blood cells admitted to medicine for correction of coagulopathy and gastrointestinal evaluation past medical history chronic atrial fibrillation type diabetes complicated by retinopathy neuropathy and nephropathy chronic renal failure coronary artery disease echocardiogram showed an ef of to with inferior posterior hypokinesis hyperlipidemia degenerative joint disease peripheral vascular disease status post left lower extremity bypass chronic edema with stasis dermatitis nasal polyps status post polypectomy clonic polyps depression status post left knee replacement status post tah bso for menorrhagia at an age allergies sulfa which causes a rash and keflex which causes severe diarrhea medications lasix mg po b i d cozaar coumadin insulin nph in the morning celexa calcitriol darvocet and k ciel social history recently returned to location after seven year stay in state with her son who is now deceased no tobacco or alcohol the patient lives alone physical examination on admission the patient is an elderly black female in no acute distress she is alert and oriented times three she is afebrile the heart rate is blood pressure respirations on room air her skin is anicteric heent normocephalic atraumatic positive conjunctival pallor no bleeding from her nares positive bleeding gums neck was supple jvp to cm lungs clear to auscultation anteriorly heart s1 and s2 irregular irregular with no murmurs rubs or gallops abdomen obese soft nontender no organomegaly rectal positive external hemorrhoids nonbleeding internal examination showed red blood on glove with scant brown stool extremities massive lower extremity edema with chronic stasis dermatitis neurological alert and oriented times three appropriate cranial nerves ii through xii intact moves all extremities laboratory white blood cell count hematocrit this is mid 30s and platelets pt inr ptt sodium k chloride bicarb bun creatinine which is to in and a glucose of hospital course coagulopathy it was thought that the patient was having an increase in coumadin dose over the past several weeks due to expired tubes done by her vna and when her new tube was fine her inr was elevated at she received several units of fresh frozen platelets and vitamin k and her coagulopathy was corrected her coumadin was held as was her non steroidal anti inflammatory drugs by the time of her admission her inr had been corrected and the decision was made to hold her coumadin since she would need a repeat colonoscopy gastrointestinal bleeding the patient received units initially of packed red blood cells with an appropriate hematocrit bump she received a colonoscopy and esophagogastroduodenoscopy colonoscopy was significant for numerous polyps throughout her colon and esophagogastroduodenoscopy was significant for gastric erosions it was felt that the polyps were responsible for her recent bleed and that she would need outpatient repeat colonoscopy several weeks after gastrointestinal was consulted during this admission of note the patient had an abdominal ct scan looking for possible cancer and metastatic disease from her polyps which was significant for two lytic lesions on her ileum she then received a bone scan which was unrevealing for any further metastatic disease of note one of the polyps removed from her colonoscopy had high grade dysplasia contained within the adenoma she had a serum protein electrophoresis which showed no specific abnormalities urine protein electrophoresis showed multiple protein bands with albumin predominated it was felt that the rest of her oncology workup could be done by her primary care physician last name namepattern4 last name stitle renal failure patient with an elevated creatinine unclear what her recent baseline was it was thought to be a combination of prerenal azotemia given her volume loss it did correct with volume cardiovascular patient with a history of chronic atrial fibrillation not requiring rate controlling agents her lasix and coumadin were held while she was an inpatient and her coumadin would be continued to be held since she would need a repeat colonoscopy in several weeks patient resuscitation in the micu was complicated by congestive heart failure she had an echocardiogram that showed an ef of mitral regurgitation tricuspid regurgitation and severe pulmonary hypertension she diuresed well with lasix and her oxygen requirement was totally gone by the day of discharge diabetes the patient was continued on her insulin with q i d finger checks while in house discharge diagnoses blood loss anemia colonic polyps lower gastrointestinal bleed congestive heart failure atrial fibrillation depression diabetes hypertension acute on chronic renal failure peripheral vascular disease hyperlipidemia chronic lower extremity edema coagulopathy first name4 namepattern1 last name namepattern1 m d md number dictated by last name namepattern1 medquist36 d t job job number',\n",
       "       'admission date discharge date date of birth sex f service chief complaint fever and chest pain history of present illness seventy one year old female with recent history of upper respiratory infection symptoms who presents to the emergency department with cough fevers and fatigue the patient presented to her pcp on the complaining of two days of rhinorrhea cough with yellow sputum right sided pleuritic chest pain and reported fever and chills given her normal physical exam she was treated for a bilateral upper respiratory infection with symptomatic treatment however the patient s symptoms persisted and she presented to the hospital1 emergency department on the complaining of increased weakness right sided lateral chest pain persistent cough nonproductive rhinorrhea and reported fevers and chills review of systems the patient denies headache neck stiffness sore throat palpitations chest pressure abdominal pain nausea vomiting diarrhea bright red blood per rectum dysuria vaginal discharge and lower extremity edema in the emergency department the patient was treated with levofloxacin and ceftriaxone and received iv fluids she was treated according to the sepsis protocol for presumed pneumonia sepsis and central line was placed past medical history hyperlipidemia anxiety disorder nephrolithiasis gastroesophageal reflux disease pyelonephritis hypertension copd allergies patient is allergic to codeine which causes chest pain and to macrobid nitrofurantoin nitrofuran which causes fever chills arthralgias and arthritis medications atenolol q d aspirin q d lipitor q d xanax prn aleve naproxen prn the patient reports that her hydrochlorothiazide is being discontinued social history the patient denies tobacco and alcohol use she lives by herself in an apartment above her children family history diabetes coronary artery disease cancer of the stomach and lungs physical examination vital signs temperature pulse blood pressure o2 saturation on room air in general this is a well appearing cooperative elderly female heent perrl anicteric sclerae oropharynx moderate pupils dry but clear neck is supple without lymphadenopathy cardiovascular s1 s2 regular rate and rhythm no murmurs rubs or gallops lungs rhonchi and wheezing on the right side abdomen soft nontender nondistended with normoactive bowel sounds back without cva tenderness extremities without edema pulses no rash neurologic alert and oriented times three cranial nerves ii through xii intact laboratories white blood cell count hematocrit platelet count sodium potassium chloride bicarb bun creatinine glucose lactate was chest x ray showed right middle lobe consolidation consistent with pneumonia hospitalization course given her picture of sepsis the patient was enrolled in the sepsis protocol and admitted to the medical icu for treatment of her pneumonia pneumonia the patient was diagnosed with community acquired pneumonia and treated with levofloxacin and ceftriaxone this led to a rapid improvement in her lung examination with resolution of the rhonchi and wheezing within hours the patient continued to complain of pleuritic type chest pain for which she was treated very gently with tylenol and motrin unsuccessfully and then successfully with darvocet codeine was avoided because the patient is allergic hypertension sepsis most likely secondary to pneumonia in addition to her antibiotic treatment the patient was aggressively hydrated according to the sepsis protocol this resulted in an improvement in her blood pressure at the same time her antihypertensive medications were held hyperglycemia during hospitalization the patient s glucose was found to be elevated the patient reports no history of diabetes obviously given her acute illness the diagnosis of glucose intolerance cannot be made at this time however the patient was found to have a hemoglobin a1c of indicating possibly glucose intolerance it is recommended that the patient follows up with her pcp to evaluate this finding medications on discharge levofloxacin mg p o q d for days cefpodoxime proxetil mg b i d for days acetaminophen mg tablets p o q 6h prn docusate sodium mg b i d lipitor mg q d dextromethorphan guaifenesin mg ml syrup take every six hours as needed atrovent inhalers and albuterol inhalers darvocet one tablet p o q 6h for seven days atenolol mg one tablet p o q d discharge status home discharge condition good discharge instructions the patient was advised to followup with her pcp within one week dr last name stitle phone number telephone fax also she was advised to contact her pcp or come back to the emergency department if she continues to have fever chills do not resolve or if she experiences any nausea and vomiting discharge diagnoses pneumonia sepsis hypertension possible glucose intolerance as of the patient is still in the medical icu but expected to be discharged on the following day to home at this time sputum cultures and blood cultures are pending an addendum will follow dr last name stitle first name3 lf dictated by last name namepattern1 medquist36 d t job job number',\n",
       "       'name known lastname known firstname unit no numeric identifier admission date discharge date date of birth sex f service hospital1 addendum hospital course continued pneumonia the patient was transferred to the floor and continued on levaquin and ceftriaxone she was afebrile but continued to have mild oxygen desaturation on room air with ambulation her respiratory status improved with mild diuresis ceftriaxone was discontinued on hospital day three on hospital day four the patient continues to have oxygen saturations in the low 90s while ambulating on room air she was in no apparent distress however was able to walk without becoming short of breath she was diuresed further and on hospital day five was stable for discharge home discharge status home discharge diagnoses pneumonia sepsis hypotension condition on discharge good discharge medications levofloxacin mg p o q day times ten days tylenol p r n colace p r n lipitor mg p o q day dextromethorphan guaifenesin p r n atrovent two puffs q six to eight hours albuterol two puffs q four to six hours atenolol mg p o q day hydrochlorothiazide mg p o q day discharge instructions the patient was instructed to call her primary care physician or return if she experienced fever and chills or was unable to eat or drink she was also instructed to follow up with her primary care physician in one week first name11 name pattern1 last name namepattern1 m d md number dictated by last name namepattern1 medquist36 d t job job number',\n",
       "       'admission date discharge date date of birth sex f history of present illness baby girl first name8 namepattern2 known lastname delivered at weeks gestation weighing gm and was admitted to the intensive care unit nursery from labor and delivery for management of respiratory distress and mother is a year old gravida para now woman with estimated date of delivery the pregnancy was complicated by first trimester bleeding treated with bedrest and elevated blood pressure a week prior to delivery prenatal screens included rh negative but type not documented rubella immune rpr nonreactive hepatitis b the mother presented in preterm labor no fever during labor she received interpartum antibiotics one hour prior to delivery for prematurity and unknown group b streptococcus delivery was by normal spontaneous vaginal delivery under epidural anesthesia the infant emerged with a good cry was dried bulb suctioned and given blow by oxygen to maintain pink color unable to wean off of oxygen in the delivery room and thus the infant was admitted to the intensive care unit nursery physical examination on admission weight gm 50th to 75th percentile length cm 50th percentile head circumference cm 25th to 50th percentile in general a nondysmorphic pink infant receiving free flow oxygen skin without rashes anterior fontanelle open and flat with molding eyes red reflex present bilaterally no cleft thorax symmetric with subcostal retracting lungs with diminished aeration heart regular rate and rhythm with normal s1 and s2 grade ii vi systolic murmur present femoral pulses abdomen soft nondistended no hepatosplenomegaly genitalia normal preterm female patent anus spine straight and intact extremities stable no hip clicks reflexes appropriate for gestational age hospital course respiratory required supplemental oxygen delivered by nasal cannula until day of life when weaned to room air has remained in room air since with comfortable work of breathing oxygen saturations in the high 90s to respiratory rates in the 40s chest x ray and clinical course consistent with transient tachypnea of the newborn cardiovascular has been hemodynamically stable throughout hospitalization the murmur heard on admission has resolved recent blood pressure is with a mean of fluids electrolytes and nutrition initially maintained of intravenous fluid of d10 w started enteral feeds on day of life the intravenous fluid was stopped on day of life has been taking enfamil with iron or breastfeeding when mom visits and then supplemented with enfamil with iron as mother s milk not in yet is feeding well mother plans to breastfeed at home and supplement until her milk is in discharge weight grams gastrointestinal the baby is jaundiced a bilirubin checked on day of life was direct on day of discharge hematology hematocrit on admission infectious disease received ampicillin and gentamicin for hours following admission for rule out infection complete blood count on admission revealed white count of with polys band platelets blood culture was negative neurology examination age appropriate head ultrasound not indicated sensory hearing screening was performed with automated auditory brain stem responses infant passed both ears condition on discharge stable preterm infant feeding well discharge disposition discharge home with parents primary care pediatrician first name8 namepattern2 last name namepattern1 m d mulden state telephone fax care and recommendations feeds ad lib demand feeds breastfeeding supplement as needed and follow weight medications none recommend iron supplementation carseat position screening pending state newborn screens sent on day of life pending immunizations received received hepatitis b immunization on immunizations recommended i synagis respiratory syncytial virus prophylaxis should be considered from month only through month only for infants who meet any of the following three criteria a born at less than weeks b born between and weeks with plans for daycare during respiratory syncytial virus season with a smoker in the household or with preschool siblings or c with chronic lung disease influenza immunization should be considered annually in the fall for preterm infants with chronic lung disease once they reach six months of age before this age the family and other caregivers should be considered for immunization against influenza to protect the infant follow up appointments recommended follow up appointment with pediatrician within three days of discharge recommended sooner if the infant has increased jaundice discharge diagnosis appropriate for gestational age preterm female transient tachypnea of the newborn resolved sepsis ruled out physiologic jaundice dr last name stitle first name3 lf dictated by last name namepattern1 medquist36 d t job job number',\n",
       "       'admission date discharge date date of birth sex f service neonatology history of present illness known lastname known lastname is the former gram product of a and 7th week gestation pregnancy born to a year old g1 p0 woman prenatal screens blood type b antibody negative rubella immune rpr nonreactive hepatitis b surface antigen negative group beta strep status was unknown pregnancy was notable for intrauterine insemination conception with resultant diamniotic dichorionic twins there was a cerclage placed at weeks due to cervical changes discoordinate growth between the twins was noted at and 7th weeks the mother had a cytomegalovirus by igg titer which was positive with a igm result equivocal she received a complete course of betamethasone rupture of membranes of twin occurred hours prior to delivery and she was taken to cesarean section for known breech vertex presentation of the twins this twin emerged limp and apneic she required bag mask ventilation and was intubated in the delivery room apgars were at minute and at minutes and at minutes she was admitted to the nicu for treatment of prematurity physical examination upon admission in the nicu weight was grams length cm head circumference cm all less than 10th percentile for gestational age in general nondysmorphic preterm female orally intubated in moderate respiratory distress minimal aeration with breath sounds no murmur pulses are no skeletal anomalies genitalia consisted with female sex and gestational age hospital course respiratory known lastname was treated with doses of surfactant she was placed on the high frequency oscillatory ventilator upon admission to the nicu her peak pressure was she was treated with a high frequency ventilator through day of life when she was changed to the conventional ventilator on day of life she was extubated with continuous positive airway pressure due to apnea she was again reintubated and maintained on the conventional ventilator through day of life she was then intermittently on and off with continuous positive airway pressure interspersed with high flow nasal cannula she came off cpap on and has remained on nasal cannula oxygen since that time at the time of discharge she continues on nasal cannula oxygen with flow of to cc chest x ray is consistent with chronic lung disease diuretic therapy with diuril was initiated on and she is being discharged home on diuril known lastname also required treatment for apnea prematurity with caffeine citrate the caffeine was discontinued on her last episode of spontaneous bradycardia occurred on known lastname will be followed by the pulmonary consult team at hospital3 after discharge attending is dr first name8 namepattern2 last name namepattern1 and pulmonary fellow is dr first name stitle name stitle phone telephone fax the consult team would like to see the infant monthly for the next few months additional recommendations included ideal sat range in mid 90s if consistently lower needs increased flow if consistently higher may try o2 wean low saturation limit should be set to usual hygiene precautions recommended restricted outdoor activity for known lastname over the next two months over the course of the winter parents were instructed to bring a copy of the last chest x ray ap and lateral to the pulmonary clinic cardiovascular known lastname required treatment for hypotension with volume expanders and dopamine her maximum dopamine infusion was mcg per kilo per minute she received doses of hydrocortisone on day of life to for her persistent hypotension she was able to wean off the dopamine by day of life no murmurs had been noted during admission fluids electrolytes and nutrition known lastname initially was maintained on intravenous fluids and total parenteral nutrition enteral feeds were initiated on day of life and gradually advanced to full volume her maximum caloric intake was calories per ounce with additional protein supplement at the time of discharge she is feeding expressed mother s milk fortified to calories per ounce four calories by neosure powder and four calories by corn oil serum electrolytes were monitored closely during admission due to the administration of diuril she is receiving potassium chloride supplements her most recent set of electrolytes are from with a serum sodium of serum potassium of chloride of total carbon dioxide content is weight on the day of discharge is kilogram with a head circumference of cm and a length of centimeters infectious disease due to her severity of illness and her prematurity known lastname was evaluated for sepsis at the time of birth a blood culture was drawn prior to initiating antibiotic therapy blood culture was no growth and the antibiotics were discontinued at hours known lastname has not had any other episodes of sepsis she did have one repeat blood cultures sent on day of life when she experienced temperature instability a urine for cmv was sent and was negative hematological known lastname is blood type b coombs negative she has received four transfusions of packed red blood cells during her admission most recent hematocrit was on a recent reticulocyte count was she is being discharged with iron supplementation gastrointestinal known lastname required treatment for unconjugated hyperbilirubinemia with phototherapy her peak serum bilirubin occurred on day of life with a total of mg dl over a direct of mg dl she received approximately days of phototherapy and her rebound bilirubin level was a total of direct neurological known lastname has had three normal head ultrasounds during admission and there are no neurological concerns at the time of discharge she is being referred to an early intervention program sensory hearing screen was performed with automated auditory brain stem responses known lastname passed in both ears ophthalmology known lastname has had a multiple ophthalmological exams screening for retinopathy of prematurity her first exam on showed immature retinas to zone her repeat exam on showed development of stage i retinopathy of prematurity most recent exam was on showing stage ii retinopathy in zone in the right eye and stage ii in zone in the left eye recommended follow up in weeks the consultation ophthalmologist is dr first name8 namepattern2 last name namepattern1 at hospital3 psychosocial hospital6 social work has been involved with the family they can be contact name ni at telephone fax condition on discharge good discharge disposition home with the parents primary pediatrician first name8 namepattern2 name8 md m d last name un hospital1 numeric identifier phone number telephone fax care and recommendations at the time of discharge ad lib p o feeding mother s milk fortified to calories per ounce calories by neosure powder which is recommended until the to month corrected age and corn oil calories per ounce medications fer in male first name un mg per ml concentration cc p o q d poly vi male first name un cc p o q day diuril mg p o q hours potassium chloride supplements meq p o b i d third car seat position screening was performed and known lastname passed state newborn screen has been sent on multiple occasion most recent specimen was from all results were within normal limits a repeat specimen will be sent at the time of discharge immunizations received known lastname received hepatitis b vaccine diphtheria tetanus acellular pertussis hib ipv and pneumococcal conjugate vaccine on through a second dose of hepatitis b vaccine was administered on initial dose of synagis was administered on immunizations recommended synagis rsv prophylaxis should be considered from month only through month only for the infant to meet any of the following criteria born at weeks gestation born between and weeks with plans for day care during rsv season with a smoker in the household or with preschool siblings influenzae immunization should be considered annually in the fall for preterm infants with chronic lung disease once the baby reaches months of age to protect the infant follow up appointments first name8 namepattern2 last name namepattern1 m d hospital3 telephone fax appointment for approximately pulmonary medicine at hospital3 drs first name stitle and name5 ptitle telephone fax hospital1 hospital1 early intervention program telephone fax caregroup vna telephone fax discharge diagnosis prematurity at 7th weeks gestation twin of twin gestation respiratory distress syndrome profound hypotension small for gestational age chronic lung disease anemia of prematurity apnea of prematurity unconjugated hyperbilirubinemia retinopathy of prematurity first name8 namepattern2 name8 md m d md number dictated by name8 md medquist36 d t job job number',\n",
       "       'admission date discharge date date of birth sex f service no dictation first name11 name pattern1 initials namepattern4 last name namepattern4 m d md number dictated by last name namepattern4 medquist36 d t job job number',\n",
       "       'admission date discharge date date of birth sex f service history of present illness first name8 namepattern2 known lastname is a year old female with known coronary artery disease status post percutaneous transluminal coronary angioplasty of a stent to the left anterior descending as recently as month only of this year who presented with four to five pounds of typical chest discomfort and low level exertion consistent with new onset and unstable angina the patient has a past medical history significant for a retinopathy hypertension diabetes mellitus has no history of transient ischemic attack no history of stroke gastrointestinal bleeding she has hyperlipidemia and has known coronary artery disease as previously stated no history of myocardial infarction is present due to her progressive four bouts of typical chest pain discomfort at low levels of exertion she presented to her pcp who ultimately admitted her to the hospital1 for cardiac catheterization electrocardiogram on admission showed no acute changes her troponins were borderline and her cpks were ultimately negative she had normal hemodynamic profile in the catheterization laboratory she underwent a left heart coronary artery catheterization that revealed the following left ventriculography showed a mitral regurgitation with left ventricular ejection fraction to be normal there was a right heart dominant circulation with left main coronary artery disease within normal however there was in stent restenosis in the proximal left anterior descending left circumflex is small but normal right coronary artery was distal right coronary artery given the aggressive in stent restenosis of the proximal left anterior descending in a diabetic female with a right coronary artery lesion the recommendation was to go forward with coronary artery bypass grafting subsequently the patient was admitted to the hospital placed on nitrates no plavix heparin beta blockade the patient has no known drug history no history of dye allergy medications on admission plavix mg q day lopressor mg q am mg p o q pm zestril mg q day aspirin mg q day nph units subcutaneously q am units subcutaneously q pm humilog sliding scale eyedrops which she takes three separate brands not otherwise specified admission labs crit of bun and creatinine of and she was well nourished well developed female sinus with blood pressure lungs clear heart was regular no murmur peripheral pulses were palpable dorsalis pedis and posterior tibial bilaterally ultimately on the same day of admission the patient was taken electively to coronary artery bypass with dr last name stitle she underwent coronary artery bypass graft times two including left internal mammary artery to left anterior descending and a right saphenous vein graft to the right coronary artery posterior descending she left the operating room with pericardium opened she has a right radial a line central venous pressure right atrial catheter two ventricular wires one atrial one ground wire one mediastinal one right pleural and one left pleural tube was also present upon transfer to the intensive care unit the patient was neurologically intact neo synephrine was being utilized for blood pressure support and was weaned off started on lasix and lopressor respiratory wise she was extubated she was encouraged to use incentive spirometry with coughing deep breathing and also to immobilize early gastrointestinal she was put on cardiac diet bun and creatinine were acceptable heme she was started on aspirin and then subsequently transferred to the floor while on the floor she was noted to have no real significant events she was afebrile throughout her hospital course lopressor was titrated to effect heart rate persistently at s and at present there are not any readings that are lower at this time hospital course unremarkable she had hematocrit of bun and creatinine of on day of discharge blood pressure was however hypertensive on postop day three she reached systolics of palp which was able to precipitate chest discomfort chest pressures electrocardiogram done at this time shows sinus tachycardia with no st t segment changes additionally she has chest x ray that showed bilateral apical pneumothoraces that were stable from previous x ray seen after chest tube removal discharge medications humilog sliding scale please see page for comprehensive details of sliding scale as well as nph units subcutaneously q am nph units subcutaneously q pm percocet mg one to two q to hours p r n lasix mg p o q am times seven day k dur meq p o q day times seven days protonics mg p o q day aspirin mg p o q day lopressor mg p o b i d zestril mg additional medications include aforementioned colace zestril lopressor condition on discharge stable afebrile sternum is intact for temperature sinus blood pressure crit and bun previously stated cardiac was stable with no drainage regular rate and rhythm clear to auscultation there were crackles at the basis abdomen is benign extremities right saphenous vein graft patent intact well approximate no evidence of erythema or exudate discharge is to rehabilitation follow up see dr last name stitle in four weeks see pcp in three weeks she can have wound check blood pressure monitoring physical rehabilitation at rehabilitation facility diagnosis significant and aggressive in stent restenosis distal or mid right coronary artery lesion status post coronary artery bypass graft times two left internal mammary artery to left anterior descending and right saphenous vein graft to posterior tibial artery first name11 name pattern1 initials namepattern4 last name namepattern4 m d md number dictated by last name namepattern4 medquist36 d t job job number',\n",
       "       'admission date discharge date service history of present illness the patient is an year old female with a past medical history of bilateral carotid stenosis coronary artery disease status post left anterior descending percutaneous intervention hypertension hypercholesterolemia who was admitted to the ccu for monitoring following elective right internal carotid artery percutaneous intervention the patient has initially been evaluated in for word finding difficulty and a left facial droop and was found to have bilateral internal carotid artery stenosis the patient has a history of significant coronary artery disease multiple medical problems and her age she was referred for elective stent intervention of her carotids as opposed to endarterectomy she had a magnetic resonance scan mra of head and neck on which showed a two right hemispheric microhemorrhages and right subcortical small vessel ischemic disease during the stent procedure the patient required a neo synephrine drip for decreased blood pressure and atropine times two for decreased heart rate during the procedure the patient was noted to have an right posterior carotid av fistula past medical history peripheral vascular disease carotid stenosis bilaterally ultrasound bilateral internal carotid artery stenosis of to cerebrovascular accident with small vessel disease known facial droop right hemispheric microhemorrhages coronary artery disease catheterization with a left main ostial stenosis left anterior descending midstenosis status post stent diagonal stenosis status post stent left circumflex lesion at the om1 ejection fraction estimated to be on a muga ett mibi that she had in there was no nuclear defect perfusion defects during the test hypertension hypercholesterolemia osteoporosis status post cataract surgery status post zenker s diverticular repair questionable history of dementia allergies intravenous pyelogram dye causes her to have anaphylaxis medications on admission lopressor mg p o twice a day aspirin mg once daily univasc mg one once daily and mg q p m dyazide mg once daily lipitor mg once daily plavix mg once daily fosamax mg q week multivitamin one once daily lactulose social history she lives alone no tobacco use and rare etoh use physical examination at the time of presentation she was afebrile with a heart rate of blood pressure to respiratory rate oxygen saturation on two liters she is in no acute distress lying in bed extraocular movements are intact the pupils are equal round and reactive to light and accommodation anicteric no bruit or jugular venous distention appreciated heart is regular rate and rhythm s1 and s2 no murmurs rubs or gallops her lungs are clear to auscultation bilaterally posteriorly abdomen with normoactive bowel sounds soft nontender nondistended extremities no cyanosis clubbing or edema right leg immobilizer placed her dorsalis pedis were her neurologic examination revealed cranial nerves with the exception of her facial nerve were intact she has flat nasolabial fold on the left side normal upper and lower extremity strength laboratory data on the day of admission white blood cell count hematocrit platelet count total cholesterol was hdl ldl assessment this is an year old female with a history of coronary artery disease peripheral vascular disease carotid artery stenosis bilaterally hypertension hypercholesterolemia admitted to the ccu status post right internal carotid artery stent neurology the patient had stent status post right internal carotid artery stent she initially was on neo synephrine to maintain a blood pressure goal between and she had q1hour neurological checks and then q2hour neurological checks initially her neo synephrine was weaned off and the patient s blood pressure gradually rose to approximately to as a result some very low dose nitroglycerin drip was started to try to keep her blood pressure between and the patient had hypotension with blood pressure down to the nitroglycerin drip was stopped and neo synephrine drip was started with blood pressure up to as high as 200s when all drips were stopped her blood pressure gradually came down to to systolic this was fairly soon after the stent had been placed and the patient arriving in the ccu overnight the first hospital night the patient was placed on a low dose of neo synephrine to maintain her blood pressure between to with gradually being able to be weaned off the drip and on the second hospital day the neo synephrine drip was turned off the patient did not require any atropine in the ccu however she did have a symptomatic bradycardia going down to mid 30s while she is sleeping coming up to mid 40s to 50s when being awakened on the neurologic examination there was no focality or any change in her examination from her baseline which had the left nasolabial fold flattening however the patient did seem to be confused the evening status post the procedure and on day two on the the patient had a ct of the head without contrast which showed no definite hemorrhage the results were reviewed with the neurologist following along with the team dr last name stitle on the second day postprocedure the patient was acting more oriented and less confused her confusion seemed to coincide with the onset of night fall and possible disturbance of her sleep wake cycle the rest of her stay the patient had blood pressure near goal being consistently in the 120s to 130s she was transferred to the floor and step down unit on hospital ward name two for further monitoring the patient was seen by physical therapy who felt the patient was a fall risk and recommended for both feet physical therapy and occupational therapy and a short term rehabilitation to optimize her functional capacity before returning to living alone at home hematology the night after the procedure the patient had a right arterial and venous sheath in place for her arterial line that was monitoring her blood pressure the patient despite having a leg immobilizer and numerous discussions and explanations and exhortations to stay in bed attempted to get out of bed on the first night of her admission and was seen by house staff house staff and nursing staff got the patient into bed her groin examination was stable with no bruit or hematoma however on the next day her hematocrit dropped to the patient had two units of packed red blood cells transfused with her hematocrit being on the day of discharge her ct of her abdomen and pelvis showed no retroperitoneal hematoma this examination was done on blood pressure control the patient will be discharged on univasc mg twice a day and will follow up with dr first name stitle in four to six weeks to have her blood pressure medications adjusted possibly placing her back on her beta blocker as well coronary artery disease the patient was continued on her aspirin and now will be on plavix for life long therapy infectious disease the patient had a low grade temperature maximizing at on the day prior to discharge she had urine and blood cultures sent all of which are no growth at the time of discharge as well her urinalysis was unremarkable she had no localizing symptoms of temperature or fever her temperature is temperature maximum on the day of discharge condition on discharge good discharge diagnoses bilateral carotid artery stenosis status post right internal carotid artery stenting significant coronary artery disease status post left anterior descending stenting hypertension hypercholesterolemia peripheral vascular disease mild dementia right facial droop seemingly due to an old stroke procedure right internal carotid artery stent medications on discharge univasc mg p o twice a day artificial tears one to two drops o u p rn lactulose multivitamin lipitor mg p o once daily plavix mg p o once daily aspirin mg p o once daily fosamax mg q week follow up the patient is to see dr first name stitle in approximately four weeks in follow up appointment for this procedure and at the same time to see her primary care physician first name11 name pattern1 last name namepattern4 m d md number dictated by last name namepattern1 medquist36 d t job job number',\n",
       "       'admission date discharge date service micu chief complaint choking history of present illness this is a year old female with severe parkinson s disease found unconscious and unresponsive with agonal breathing family reports the patient choked on some chicken they proceeded to do cpr and the heimlich and retrieved some chicken with fingers patient emergently was intubated at the scene and afterwards her vitals were a pulse of blood pressure pulse came down to and she was on o2 patient received a cc bolus of normal saline in the emergency department patient s vitals were pulse blood pressure respiratory rate and o2 of note the family thinks the patient was choking on chicken for about three minutes and was totally nonresponsive without palpable pulse for about two minutes also of note the patient is on her 6th day of treatment for urinary tract infection with cipro family states that the patient was slightly more fatigued but otherwise at her baseline with severe parkinson s disease and not oriented patient had good po intake no other localizing signs there is a question of a transient ischemic attack weeks ago in the micu patient was found to have right lateral gaze and deviation and was sent for head ct scan past medical history parkinson s disease history of multiple falls status post subarachnoid hemorrhage in status post right pelvic fracture in dementia coronary artery disease echocardiogram in showed an ejection fraction of with anteroseptal hypokinesis history of deep venous thrombosis pulmonary embolus not currently on anticoagulation depression status post ivc filter placement in history of urinary tract infections with mental status changes medications aspirin mg po q day buspar mg po qid lactulose multivitamin prilosec mg po q hs remeron mg po q hs seroquel mg po prn sinemet one tablet po tid trazodone mg po tid tylenol prn cipro day six premarin allergies no known drug allergies social history patient lives with her daughter there is no history of tobacco or alcohol use family history noncontributory physical examination vitals pulse blood pressure respiratory rate and o2 saturation vent set at simv respiratory rate of tidal volume of peep of and fio2 of in general the patient is awake but intubated lungs are clear to auscultation bilaterally anteriorly cardiovascular tachycardic no murmurs rubs or gallops abdomen is soft nontender nondistended normoactive bowel sounds extremities pedal pulses no clubbing cyanosis or edema neurologic right lateral gaze deviation no movement past midline pupils are equal round and reactive to light and accommodation moves both upper extremities spontaneously increased rigidity diffusely babinski upgoing bilaterally laboratories white count hematocrit platelets sodium potassium chloride bicarb bun creatinine glucose arterial blood gas chest x ray rotated ett in good position no cardiopulmonary infiltrates head ct scan no hemorrhage electrocardiogram normal sinus rhythm at beats per minute left axis deviation normal intervals q waves in v1 through v2 no change from echocardiogram from ejection fraction of mild to moderate hypokinesis in the anteroseptal and apical walls rv normal egd from hiatal hernia grade ii esophagitis barrett s c scope from shows grade i internal hemorrhoids hospital course in short this is a year old female with a history of severe parkinson s multiple falls who presents status post choking patient most likely had temporary complete airway obstruction and possible pulseless electrical activity the patient was emergently intubated and required no defibrillation pulmonary the patient has no known lung disease because of her episode and fear of any residual foreign objects the patient was bronched this revealed no evidence of upper airway obstruction patient s vent was changed from simv to cpap with pressure support she was taking good ventilations with very little sedation the patient was noted to have very thigh secretions on suctioning there was a question of aspiration pneumonia especially given elevated white count discussion took place with the daughter who is the proxy decision was made to extubate the patient despite the large volume of secretions the daughter was well aware of the risks benefits if the patient remained intubated she would be much more likely to develop vent acquired pneumonia if she was extubated there was a significant risk of drowning in secretions the patient s daughter chose the latter choice according to her what she thought her mother would want there was no plan to reintubate once extubated patient was extubated on following extubation the patient became tachypneic and uncomfortable patient s comfort was maximized with morphine drip because of the revised goals the patient was transferred to the floor the following day she was transferred to hospice care heme the patient was noted to have a hematocrit drop from to she was also having coffee grounds suctioned her hematocrit further decreased to the patient was treated with units of packed red blood cells her hematocrit came up to the patient had no further coffee grounds and he hematocrit stabilized no nasogastric lavage was performed hematocrit came up to and remains stable infectious disease the patient developed a fever although her white count came down fever was up to blood cultures and urine cultures were negative chest x ray showed no sign of infiltrate no antibiotics were initiated neurologic patient has known severe parkinson s on sinemet although despite the lateral gaze deviation the patient s head ct scan was negative condition on discharge stable discharge medications carbidopa levodopa one tablet po tid morphine prn lansoprazole discharge instructions the patient is discharged to hospice care she is to followup with dr last name stitle as needed patient s other medications can be restarted according to the wishes of the family and pcp discharge diagnoses respiratory arrest status post foreign object removal possible pulseless electrical arrest secondary to complete airway obstruction upper gastrointestinal bleed status post units of packed red blood cells parkinson s first name11 name pattern1 last name namepattern4 m d md number dictated by name8 md medquist36 d t job job number',\n",
       "       'admission date discharge date date of birth sex f service cardiothoracic history of present illness the patient was referred from an outside hospital with a chief complaint of increasing shortness of breath and tires easily with exertion admitted to hospital hospital in in congestive heart failure at that time via echocardiogram found to have aortic stenosis referred to hospital1 for cardiac catheterization to further evaluate her aortic stenosis cardiac catheterization done on showed an aortic valve area of cm sq with a mean gradient of and a peak gradient of moderate pulmonary hypertension pa pressure mitral regurgitation severe aortic stenosis with an lvedp of and an ejection fraction of she was then referred to cardiothoracic surgery for aortic valve replacement past medical history aortic stenosis diabetes mellitus type right hip replacement noninsulin dependent diabetes mellitus medications on admission include glucovance one tablet twice a day univasc mg once daily lasix mg every other day and aspirin mg once daily allergies no known drug allergies family history significant for her father who died at years from myocarditis social history she lives alone in location un with five stairs she has a remote tobacco history quit in month only one pack per day for years no alcohol use physical examination vital signs heart rate and regular blood pressure respiratory rate height weight pounds general healthy appearing woman in no acute distress skin no lesions or rashes head eyes ears nose and throat pupils equal round and reactive to light extraocular movements intact anicteric not injected oropharynx mucous membranes moist neck supple no lymphadenopathy no jugular venous distention no thyromegaly chest clear to auscultation bilaterally heart regular rate and rhythm s1 s2 with iii vi blowing murmur abdomen soft nontender nondistended normal active bowel sounds no hepatosplenomegaly extremities warm and well perfused with no cyanosis clubbing or edema no varicosities neurological cranial nerves ii through xii grossly intact moves all extremities strength in upper and lower extremities sensation intact in all dermatomes pulses femoral bilaterally dorsalis pedis bilaterally posterior tibial bilaterally and radial bilaterally no carotid bruits were noted laboratory data white count hematocrit platelets sodium potassium chloride co2 bun creatinine glucose electrocardiogram rate of first degree av block intervals with left ventricular hypertrophy chest x ray is pending at the time of physical hospital course the patient was a direct admission to the operating room on at which time she underwent an aortic valve replacement please see the operative report for full details in summary she had an aortic valve replacement with a mosaic porcine valve she tolerated the operation well and was transferred from the operating room to the cardiothoracic intensive care unit the patient did well in the immediate postoperative period however her blood pressure remained somewhat labile therefore she was continued on a neo synephrine drip to maintain a systolic blood pressure greater than in addition she was slow to awaken after her anesthesia was reversed and in several attempts to wean from the ventilator she developed a respiratory acidosis she therefore remained on the ventilator throughout the day of postoperative day one on postoperative day two the patient remained hemodynamically stable her neo synephrine drip was weaned to off she was again weaned from the ventilator and successfully extubated her chest tubes were discontinued and at the end of the day she was transferred from the cardiothoracic intensive care unit to the floor for continuing postoperative care and cardiac rehabilitation after being transferred to the floor the patient did well over the next several days her activity level was increased with the assistance of physical therapy and the nursing staff she remained hemodynamically stable her respiratory condition remained stable and on postoperative day four she was deemed stable and ready to be transferred to rehabilitation for continuing postoperative care and physical therapy at the time of transfer the patient s physical examination is as follows vital signs temperature heart rate and sinus rhythm blood pressure respiratory rate oxygen saturation on room air weight preoperatively was kg at discharge is kg laboratory data on white count hematocrit platelets sodium potassium chloride co2 bun creatinine glucose physical examination alert and oriented x moves all extremities conversant respiratory scattered rhonchi with diminished breath sounds in the bases cor regular rate and rhythm s1 s2 with soft systolic ejection murmur sternum is stable incision with staples open to air clean and dry abdomen soft nontender nondistended normal active bowel sounds extremities warm and well perfused with no cyanosis clubbing or edema discharge medications ranitidine mg twice a day enteric coated aspirin mg once daily glucovance one tablet twice a day metoprolol mg twice a day furosemide mg once daily for days potassium chloride meq once daily for days colace mg twice a day niferex mg once daily percocet one to two tablets every four hours as needed ibuprofen mg every six hours as needed discharge diagnosis aortic stenosis status post aortic valve replacement with a mosaic porcine valve diabetes mellitus type right hip replacement condition on transfer stable discharge instructions she is to have follow up with dr last name stitle in one month and follow up in the hospital clinic in two weeks first name11 name pattern1 last name namepattern1 m d md number dictated by name8 md medquist36 d t job job number',\n",
       "       'admission date discharge date date of birth sex f service medicine allergies patient recorded as having no known allergies to drugs attending first name3 lf chief complaint ftt major surgical or invasive procedure none history of present illness 81f w dm2 as s p avr cirrhosis nash with 5d fatigue decreased po intake nausea mild llq pain w no diarrhea per ed though soft on repeat exam denies sob but says that she has had increased tachypnea over last weeks weight loss unsure of how much but has noticed pants and shirts fitting differently cough over last few months unproductive long smoking history no fevers night sweats dysuria cvat of note pt continued to take all medications per pt last saw pcp week ago while in name ni pt remained afebrile and hemodynamically stable on 2l nc with persistent tachypnea in 30s she did have hypoglycemia to first in transport to hospital then in ed which corrected with two amps d50 and start of d51 ns cxr showed a left pleural effusion and ua showed a uti which was initially treated with vanc levo flagyl to cover possible pneumonia and uti electrolytes showed non gap metabolic acidosis on vbg past medical history aortic stenosis with porcine valve replacement last ef in system diabetes mellitus type right hip replacement noninsulin dependent diabetes mellitus nash social history she lives alone with neighbor s help she has a remote tobacco history quit in month only one pack per day for years still smoking no alcohol use per her report no cancer screening family history significant for her father who died at years from myocarditis physical exam on admission vitals t bp hr rr on 2l gen sleepy frail cachetic chronically ill appearing woman heent perrl eomi mm dry op clear neck no doctor first name cv tachy nl rhythm loud murmur over entire precordium pulm decreased bs l lower lung on lateral anterior exa r side clear abd soft non distended nontender bs ext lukewarm extremities dp bilaterally neuro psych alert and oriented nl tone decreased bulk weak thoroughout strength ue and les pertinent results 31pm type mix po2 pco2 ph total co2 base xs comments green top 31pm glucose k 35pm urine color yellow appear cloudy sp last name un 35pm urine blood lg nitrite pos protein glucose neg ketone neg bilirubin neg urobilngn ph leuk mod 35pm urine rbc wbc bacteria many yeast none epi 30pm urine hours random creat sodium potassium chloride 31pm glucose lactate 00pm glucose urea n creat sodium potassium chloride total co2 anion gap renal u s pm renal u s reason arf eval for hydronephrosis hospital medical condition year old woman with arf s p tx for urosepsis now w decreasing urine output reason for this examination eval for hydronephrosis indication year old female with acute renal failure comparison renal ultrasound the right kidney measures cm the left kidney measures cm again seen is a cm cyst in the upper pole of the left kidney there are no stones or hydronephrosis bilaterally there is a trace amount of ascites impression left renal cyst no stones or hydronephrosis chest portable ap am chest portable ap reason pulm edema hospital medical condition year old woman with ascites reason for this examination pulm edema history ascites with possible pulmonary edema findings in comparison with the study of there is little change again there is some enlargement of the cardiac silhouette with indistinct pulmonary vessels consistent with elevated pulmonary venous pressure left pleural effusion persists the possibility of pneumonia at the left base can certainly not be excluded in the absence of a lateral view chest portable ap reason evaluate for interval change hospital medical condition year old woman with l pleural effusion pna reason for this examination evaluate for interval change history left pleural effusion and possible pneumonia to assess for change findings in comparison with the study of there is again increased opacification at the left base consistent with some combination of effusion atelectasis and pneumonia little overall change abdomen u s complete study pm abdomen u s complete study reason evaluate for ascites other intraabdominal pathology pleas hospital medical condition year old woman with ftt ascites history of cirrhosis nash reason for this examination evaluate for ascites other intraabdominal pathology please mark a spot for tapping paracentesis indication year old female with history of cirrhosis and ascites evaluate for intraabdominal pathology and mark a spot for tap comparison none abdominal ultrasound the liver is nodular and coarsened in echotexture consistent with underlying cirrhosis within the right hepatic lobe there is a x cm hypoechoic lesion with second questionable lobulated cm lesion seen posteriorly the gallbladder wall is thickened with a single mobile gallstone seen a doctor last name sign was not elicited there is no intra or extra hepatic biliary dilatation the right kidney measures cm the left kidney measures cm there is a cm cyst in the lower pole of the left kidney there are no stones or hydronephrosis the spleen is enlarged measuring cm the visualized portions of the pancreas are unremarkable there is a moderate amount of ascites within the right lower and left lower quadrants a spot was marked for tap in the left lower quadrant impression nodular and coarsened echotexture of the liver consistent with cirrhosis two hypoechoic lesions within the right hepatic lobe concerning for hepatocellular carcinoma for which further evaluation with mri is recommended cholelithiasis moderate amount of ascites a spot was marked for tap in the left lower quadrant to be performed by the clinical team these findings were discussed with dr first name8 namepattern2 last name namepattern1 on at p m chest portable ap pm chest portable ap reason please r o acute process hospital medical condition year old woman with htn dm2 with fatigue nausea reason for this examination please r o acute process indication fatigue and nausea upright ap chest patient is status post median sternotomy and aortic valve repair cardiomediastinal silhouette is unchanged pulmonary vascularity is normal patchy parenchymal opacity is present at the left base with a left sided pleural effusion again noted no pneumothorax though evaluation of the left apex is limited by patient head positioning degenerative changes of the left shoulder are partially imaged impression persistant left pleural effusion and associated consolidation likely representing atelectasis though pneumonic consolidation cannot be completely excluded brief hospital course a p 81yo with nash cirrhosis dm htn as s p avr here w klebsiella bacteremia cnna and arf initially admitted to the icu and subsequently transferred to the floor uti patient initially found to have a positive ua with many bacteria positive leukocuyte esterase and nitrite she was initially started on levo which was subsequently changed to cipro and then to ceftriaxone to cover both the uti and peritonitis urine cultures grew pansensitive e coli and klebsiella sensitive to all but nitrofurantoin patient will complete a course of ceftriaxone until klebsiella bacteremia patients blood culture grew out klebsiella she was intially started on zosyn but after paracentesis done and she was found to have peritonitis this was changed to ceftriaxone patient had an episode fo hypotension thought to be secondary to sepsis she was intially started on pressors in the icu which were quickly weaned patients subsequent blood cultures had no growth and her blood pressure remained stable spontaneous bacterial peritonitis patient intially presentd with abdominal pain patient had an abdominal ultrasound which showed nodular and coarsened echotexture of the liver consistent with cirrhosis and had a moderate amount of ascites a paracentesis was done which showed polys and the culture was negative she was initially started on vancomycin and levofloxacin which was then changed to cipro and zosyn she was then placed on ceftriaxone 1gm iv q24 hours she was given oxycodone for pain control she will complete a week course of ceftriaxone for the peritonitis which will be done pulmonary effusion pt was initially tachynpnic likely attempt to compensate for metabolic acidosis pulmonary effusion chronic after sternotomy pt was intially started on vancomycin and flagyl but discontinued as there was no evidence of pneumonia patients respiratory status improved and did not require further intervention arf patient intially had a creatinine of on admission she was becoming oliguric initially thought to be hepatorenal she was started on albumin octreotide and midodrine for concern of hepatorenal syndrome patients candesartan and lasix were held renal was consulted and felt the acute renal failure was secondary to renal hypoperfusion in the setting of her bacteremia not hepatorenal a renal ultrasound was unremarkable the midrodrine octreotide and albumin were discontinued patients creatinine slowly improved during her stay as her bacteremia resolved her creatinine was on discharge no further intervention was felt necessary however patient will need closer follow up of her creatinine before she has an mri hyperglycemia pts glyburide was intially held secondary to acute renal failure as well as pt not having po intake when she began her po diet her sugars were noted to be in the 400s she was started on insulin nph and regular this was titrated up for better glucose control she was sent home on 11u nph qam and 2units qhs she will continue wiht a sliding scale she will need outpatient follow up for her glucose control and management of oral agents she was not sent home on her oral doctor last name glyburide liver lesions abd u s showed two hypoechoic lesions within the right hepatic lobe concerning for hepatocellular carcinoma for which further evaluation with mri is recommended lesions could be hcc vs metastases pt also reports significant weight loss an afp was an mri was not done because the patient had acute renal failure and her creatinine had not come down enough before discharge she will need an mri with contrast once her creatinine improves diarrhea patient has history of diarrhea on lomotil at home patient recently started on cephalosporin prior to admission she did not have loose stool during her stay c diff cultures were negative x3 htn the patients medications were changed from toprol xl to 25mg metoprolol hospital1 given intial hypotensive episode in icu anemia patient has a microcytic anemia felt to be iron deficiency she was started on iron supplements nutrition the patient was evaluted by speech adn swallow because it appeared that she had difficulty tolerating a regular diet without an aspiration risk she was cleared for a soft solid diet with nectar thickened liquids she also needs to take her pills with purees access a midline was placed on to continue her antibiotic course code dnr dni medications on admission glyburide5 b i d lasix 40mg three days a week toprol xl 100mg aspirin 81mg lovenox subcutaneous vytoren 40mg atacand 8mg senna percocet prn dulcolax prn discharge medications ceftriaxone gm iv q24h day insulin regular human unit ml cartridge sig one 11u qam 2u qhs injection once a day please get 11u insulin qam and 2u qhs aspirin mg tablet chewable sig one tablet chewable po daily daily ezetimibe mg tablet sig one tablet po daily daily metoprolol tartrate mg tablet sig one tablet po bid times a day ferrous sulfate mg tablet sig one tablet po daily daily vytorin mg tablet sig one tablet po once a day insulin lispro unit ml cartridge sig units subcutaneous qachs as needed for sliding scale oxycodone mg tablet sig one tablet po q4h every hours as needed mri pt needs to follow up with dr last name stitle and have him order an mri with gadolinium to evaluate liver lesions discharge disposition extended care facility hospital location un discharge diagnosis urosepsis peritonitis acute renal failure discharge condition improved discharge instructions you were admitted to the hospital for a bacterial infection you were found to have bacteria in your urine and your blood you were also found to have an infection called peritonitis you were treated with antibiotics you will continue to receive the antibiotic ceftriaxone to complete a week course you were also found to have some incidental lesions on your liver found on an abdominal ultrasound we were unable to get an mri of your liver because one of your labs called creatinine was elevated which measures your kidney function you will need to wait to get the mri until this creatinine improved to characterize these lesions we have stopped your atacand and lasix you were started on iron supplements your toprol xl was changed to metoprolol 25mg twice daily your glyburide was stopped you were started on insulin if you have any fever chills abdominal pain nausea vomiting chest pain shortness of breath diarrhea or any other symptom that concerns please call your pcp or return to the er please follow up with dr first name8 namepattern2 last name namepattern1 per your scheduled appointment in month only followup instructions please follow up with dr first name8 namepattern2 last name namepattern1 per your scheduled appointment on at 30pm pt will need an mri once creatinine improves to evaluate the lesions found on her liver on ultrasound',\n",
       "       'admission date discharge date date of birth sex m service neonatology history baby name ni name2 ni known lastname twin number two was born at weeks gestation by cesarean section for worsening mild pre eclampsia to a year old gravida ii para now ii woman her prenatal screens are a positive antibody negative rubella immune rpr nonreactive hepatitis surface antigen negative and group b strep unknown this was a spontaneous twin pregnancy of diamniotic dichorionic twins with a normal fetal survey in both twins this pregnancy was complicated by a motor vehicle accident in the fourth month and by hypertension the mother s medical history is also significant for hypothyroidism treated with levothyroxine normal t4 and tsh during pregnancy the delivery was under spinal anesthetic artificial rupture of membranes at the time of delivery of clear amniotic fluid there was no intrapartum fever or fetal tachycardia or any other sepsis risk factors the infant emerged requiring blow by oxygen and generalized decreased tone his apgars were at one minute and at five minutes he had grunting and tachypnea in the delivery room and so was transferred to the known lastname intensive care unit his birth weight was grams his birth length was cm and his birth head circumference was cm physical examination revealed a non dysmorphic term appearing infant anterior fontanel open and flat moderate nasal flaring moderate intercostal and subcostal retractions grunting scattered coarse crackles in the lung fields regular rate and rhythm of the heart no murmur present soft nondistended abdomen three vessel umbilical cord no organomegaly and patent anus normal male genitalia testes descended bilaterally mild generalized hypotonia but improving moving limbs symmetrically responsive to stimulation suck root gag grasp all normal right palmar crease is present normal spine limbs hips and clavicles hospital course by system respiratory he required nasopharyngeal continuous positive airway pressure for the first hours and then weaned to room air where he has remained he had some apnea and bradycardia the last one occurring on on examination now his respirations are comfortable lung sounds are clear and equal cardiovascular he required some fluid resuscitation at the time of admission and has remained normotensive since that time he has a normal s1 s2 heart sound no murmur he is pink and well perfused fluids electrolytes and nutrition enteral feeds were begun on day of life number one and advanced without difficulty to full volume feedings at the time of discharge he is eating enfamil on an ad lib schedule taking approximately cc kg day with a well coordinated suck and swallow reflex his weight at the time of discharge is grams his length is cm and his head circumference is cm gastrointestinal he had one bilirubin drawn on day of life number one the total was direct hematology his hematocrit at the time of admission was platelets were he has received no blood products during this date range intensive care unit stay infectious disease he was started on ampicillin and gentamicin at the time of admission antibiotics were discontinued after hours when the blood culture was negative and the infant was clinically well he has remained off antibiotics since that time sensory hearing screening was performed with automated auditory brain stem responses and he passed in both ears on psychosocial his twin brother went to the name ni nursery and was discharged home with the mother the name2 ni are married and have been very active in the infant s care throughout his name2 ni intensive care unit stay condition at discharge the infant is discharged in good condition discharge status home with his name2 ni primary pediatric care will be provided by dr first name8 namepattern2 last name namepattern1 of hospital pediatrics care recommendations feedings the infant is feeding enfamil on an ad lib schedule medications the infant is discharged on no medications the infant passed a car seat oxygenation test on a state date range screen was sent on immunizations received the infant received his hepatitis b vaccine on discharge diagnosis term male date range status post transitional respiratory distress sepsis ruled out status post apnea due to immature respiratory pattern name6 md name8 md m d md number dictated by last name namepattern1 medquist36 d t job job number',\n",
       "       'admission date discharge date date of birth sex m service cardiac s history of the present illness mr known lastname has had known mitral valve prolapse diagnosed over a five to ten years ago he has been followed by serial electrocardiograms for the last several years he was recently diagnosed with a new chordal tear and a new increased murmur the patient came to preadmission testing to hospital1 for elective mitral valve replacement past medical history atrial fibrillation hypothyroidism hypertension sleep apnea requiring bipap p r n at night psoriasis benign prostatic hypertrophy past surgical history right inguinal hernia repair transurethral resection of the prostate cryoablation by electrophysiology service right nephrolithiasis thyroid biopsy medications on admission coumadin mg alternating with mg amiodarone lipitor levoxyl accupril norvasc multivitamins folate vitamin b6 and b12 doctor first name temazepam p r n at night with bipap allergies no known drug allergies social history the patient is a psychologist he currently lives alone he has a son living nearby for support history of smoking quit in prior alcohol was three drinks per night the patient states that he quit three months ago to admission family history the patient s father is deceased at the age of from a cva mother deceased at due to breast cancer laboratory data preoperative laboratory data wbc hematocrit platelet count sodium potassium chloride co2 bun creatinine glucose pt inr ptt cardiac catheterization performed on please see the cardiac catheterization report for full details summary left ventriculography revealed mr with normal wall motion and ef estimated between to lvedp the lmca had a mild plaque the lad had a mid lesion the lcx had minimal luminal irregularities the rca had minimal lumen irregularities physical examination examination revealed the following the patient presented asymptomatically vital signs were noted normal heent unremarkable heart sounds were irregular with a noted systolic murmur lungs lungs were clear to auscultation abdomen abdomen revealed no masses but soft and nontender extremities palpable pulses no varicosities identified the patient was evaluated in preadmission testing on of this year for preoperative evaluation of the mitral valve replacement scheduled on the patient was admitted to hospital1 on where he was brought to the operating room please see the operating room report for full details in summary the patient underwent an aortic valve replacement with initials namepattern4 last name namepattern4 doctor last name and a mitral valve repair with initials namepattern4 last name namepattern4 the patient tolerated the operation well and the patient was transferred from the operating room to the cardiothoracic intensive care unit at the time of transfer the patient was on epinephrine mcg per kilogram per minute neo synephrine mcg per kilogram per minute and propofol the patient did well immediately postoperatively he was weaned from his inotropes and pressor support the anesthesia was reversed he weaned from the ventilator and he was successfully extubated the patient remained hemodynamically stable on postoperative day he continued to be atrial paced he was transferred to the floor on postoperative day the patient was noted to return to the baseline of atrial fibrillation on postoperative day the amiodarone bolus was administered and po amiodarone was initiated and coumadin for anticoagulation over the next several days the patient continued to make slow progress with the assistance of the nursing staff in the department of physical therapy the patient did receive two units of blood while on the floor on and where the hematocrit progressed from to and remained stable at with anticoagulation the patient s epicardial wires were discontinued on postoperative day the patient continued to be hemodynamically stable with increased activity level and continued with pulmonary toilet rehabilitation screen was performed on postoperative day on postoperative day the patient remained hemodynamically stable and the patient is ready to transfer to a rehabilitation facility to continue pulmonary care and increased activity levels and regain strength anticipated discharge is tomorrow a m physical examination presently revealed a temperature of heart rate 80s to 90s in atrial fibrillation lopressor was increased today from to b i d blood pressure 130s to 140s respiratory rate the patient is on room air saturating between to preoperative weight is pounds current weight as of today is pounds laboratory data chemistries from revealed the following sodium potassium chloride co2 bun creatinine glucose cbc from revealed the following wbcs hemoglobin hematocrit platelet count goagulations on revealed pt of with inr of the patient is to have hematocrit and pt level re evaluated in the morning and have coumadin dosed accordingly physical examination the patient neurologically is alert and oriented and moving all extremities the patient follows commands respiratory the patient continues on room air he has no dyspnea no cough no wheeze respiratory rate is unlabored he does have rales in the left base cardiac s1 and s2 irregular no rub or murmur appreciated gi abdomen is distended it is soft and nontender he does have bowel sounds in four quadrants he reports no nausea or vomiting he is passing flatus but he has not had a bowel movement he continues on milk of magnesia and colace extremities there was no pedal edema appreciated legs are warm and well perfused bilaterally wound sternal incision is open to air dry intact with steri strips sternal incision has no drainage or no erythema the patient does have approximately cm subcutaneous emphysema area on the right clavicular area approximately cm discharge medications lipitor mg po q d levothyroxine sodium mcg po q d enteric coated aspirin mg po q d amiodarone mg po b i d lopressor mg po b i d lasix mg po b i d times two weeks first name5 namepattern1 last name namepattern1 meq po b i d times two weeks coumadin dose adjusted for goal inr of to be checked daily current coumadin doses given mg mg mg mg for inr of repeat pt inr pending on am day of discharge milk of magnesia cc po q 6h p r n constipation colace mg po b i d oxycodone acetaminophen one to two tablets po q 4h p r n pain discharge diagnoses valvular disease status post aortic valve replacement last name un doctor last name and mitral valve replacement with doctor last name atrial fibrillation hypothyroidism hypertension sleep apnea with bipap p r n at night psoriasis di last name stitle e disposition this patient is to be discharged to rehabilitation he is to followup in the hospital clinic in one week he is to followup with dr last name prefixes in four weeks post discharge he is to followup with the primary care physician three weeks post discharge he is to followup p r n with the cardiologist at his primary physician s discretion note the patient is discharged to rehabilitation the patient has a history of sleep apnea requiring bipap at home the patient has not required the support of bipap during hospitalization doctor last name last name prefixes m d md number dictated by last name namepattern1 medquist36 d t job job number dr',\n",
       "       'admission date discharge date date of birth sex m service medicine allergies percocet inderal la lopressor sotalol ultram opioid analgesics attending first name3 lf chief complaint dyspnea major surgical or invasive procedure ablation right atrial foci history of present illness mr known lastname is an year old male with a history of avr mvr who is being transferred from an osh for vtach over the last few months has had increasing dyspnea on exertion prior to month only he could walk for a few hundred yards without doe now he has difficulty walking more than yards or one flight of stairs since his aaa in month only he has also noticed significant lower extremity edema on the day of transfer was admitted to an osh on with severe respiratory distress he complained of two days of sob but he did not initially want to go to the hospital overnight he experienced extreme sob at 4am after waking to use the bathroom and called ems upon arrival to the osh ed was in extreme respiratory distress responsive but unable to talk vitals showed bp hr rr temp o2 sat on ra an ekg showed ivc which was suspicious for slow vtach so an amiodarone drip was started a cxr showed heart failure and a nitro drip was started and 80mg iv lasix was given with liter of urine output resulting cpap was also used prior to transfer had another episode of vtach at 45pm currently the patient is feeling significantly improved his sob is resolved and he states that his breathing is almost at it s baseline he denies any chest pains palpatations he did have some mild nausea on arrival which he atributes to a bumpy ambulance ride he remains on a nitro gtt past medical history s p aaa repair at hospital1 hypertension hyperlipidemia valvular heart disease s p bioprosthetic avr s p mitral valve repair in atrial fibrillation flutter bph anxiety hypothyroidism obstructive sleep apnea social history the patient lives in his own home one of his sons has been staying with him recently as he is between jobs he has two sons name ni has a girlfriend the patient continues to work at doctor first name as a clinical psychologist he reports smoking for years but quit years ago rare etoh adls iadls the patient is independent with his adls iadls he continues to drive and does not report any near misses advanced directives the patient s son name ni name ni is his hcp family history nc physical exam blood pressure was mm hg while sitting in bed pulse was beats min and regular respiratory rate was breaths min with an oxygen saturation of on liters generally the patient was well developed well nourished and well groomed the patient was oriented to person place and time the patient s mood and affect were not inappropriate there was no xanthalesma and conjunctiva were pink with no pallor or cyanosis of the oral mucosa the neck was supple with jvp 3cm above the neck at the carotid pulse was easily palpable there was no thyromegaly the chest wall showed pectus excavatum the respirations were not labored and there were no use of accessory muscles the lungs showed bibasilar crackles with good air movement palpation revealed no thrills lifts or palpable s3 or s4 the heart sounds revealed a harsh midsystolic murmur at the aortic site there was no hepatosplenomegaly or tenderness the abdomen was soft nontender and nondistended the extremities had no pallor cyanosis clubbing there was bilateral edema there were no abdominal femoral or carotid bruits inspection and or palpation of skin and subcutaneous tissue showed no stasis dermatitis ulcers scars or xanthomas pulses right carotid dp pt left carotid dp pt pertinent results 23pm glucose urea n creat sodium potassium chloride total co2 anion gap 23pm estgfr using this 23pm alt sgpt ast sgot ld ldh ck cpk alk phos tot bili 23pm ck mb notdone ctropnt 23pm calcium phosphate magnesium 23pm wbc rbc hgb hct mcv mch mchc rdw 23pm plt count 23pm pt ptt inr pt ct head findings comparison is made to and the tiny hyperdensity of the left centrum semiovale is again visualized which is not significantly changed there is no surrounding vasogenic edema this finding may represent a calcification no intracranial hemorrhages are identified the doctor last name white matter differentiation is maintained again seen are extensive periventricular hypodensities consistent with small vessel ischemic changes and small watershed infarcts of the right frontal and occipital lobes the ventricles and extra axial csf spaces are unchanged the visualized orbits are normal the visualized paranasal sinuses and mastoid air cells are clear no suspicious bony abnormalities are seen impression no intracranial hemorrhages no significant change in tiny hyperdensity of the left centrum semiovale which likely represents a calcification echo general comments suboptimal image quality poor echo windows conclusions the left atrium is markedly dilated the right atrium is markedly dilated there is mild symmetric left ventricular hypertrophy with normal cavity size and regional global systolic function lvef right ventricular chamber size and free wall motion are normal a bioprosthetic aortic valve prosthesis is present the transaortic gradient is at the upper limit of normal for this prosthesis mild aortic regurgitation is seen the mitral valve leaflets are mildly thickened a mitral valve annuloplasty ring is present the mitral annular ring appears well seated and is not obstructing flow no mitral regurgitation is seen there is mild pulmonary artery systolic hypertension there is an anterior space which most likely represents a fat pad impression mild left ventricular hypertrophy with preserved regional global biventricular systolic function marked biatrial dilation mild aortic regurgitation in the presence of a bioprosthetic avr gradients across avr at at upper limits of normal mitral valve annuloplasty ring appears well seated gradients across ring also at upper limits of normal mild pulmonary hypertension mildly dilated thoracic aorta brief hospital course year old male with a history of cad atrial fibrillation s p avr mvr who was transferred from from an osh for concern for ventricular tachycardia on arrival his ekg s were as follows ekg osh wide complex tachycardia with a rate of ekg hospital1 nsr with a 1st degree av block lad possible name prefix prefixes last name prefixes loss of r waves in precordial leads old lvh electrophysiology consult was placed and it was felt that this was more likely a supraventricular tachycardia in the setting of a bundle branch block plan was for evaluation and possible ablation in the electrophysiology lab however we had to wait several days as his inr was supratheraputic once inr he went to ep lab and had ablation of atrial tachycardia focus respiratory distress the patient s examination and cxr were most consistent with pulmonary edema he responded well to lasix and a nitro gtt regarding possible causes for this he was hypertensive on admission to the osh which may have been a precipitant as well as his tachycardia he has significant valvular disease and symptoms of both right and left heart failure the patient diuresed appropriately on lasix and was weaned down to room air satting for several days before discharge he is discharged on lasix in addition to his usual medications in addition his ace dose was increased to mg an echo demonstrated preserved ejection fraction mitral and aortic gradients at upper level of normal and left ventricular hypertrophy as noted above in the reports section wide complex tachycardia the rhythm had a wide qrs with a rate in the range most likely ventricular tachycardia the patient presented to the osh on amiodarone and was given a drip by the time he arrived at hospital1 he was in nsr with a long pr interval and amiodarone was discontinued enzymes were within normal limits he did have a few episodes of this tachycardia on telemetry during which he remained asymptomatic his inr was elevated which delayed by a few days ep study ep study demonstrated several right atrial foci which were ablated on with no complications his beta blocker was continued hypertension his ace inhibitor was uptitrated and he was continued on his beta blocker atrial fibrillation flutter the patient is s p at least two attempts at ablation and a recent cardioversion reports that he has been in sinus since the cardioversion his initial inr was so coumadin was held and reintroduced just prior to discharge given his amiodarone use liver and thyroid tests were performed which were essentially normal except for alt and ldh hyperlipidemia continued atorvastatin anxiety continued ativan hypothyroidism continued levothyroxine hematuria the patient had his foley pulled out about one week prior to discharge and he immediately passed bright red blood and then was unable to void for several hours foley catheter was reinserted and he was started on continuous bladder irrigation as well as proscar to treat prostatic bleeding the next day flushes and irrigation were not easy to retrieve through the foley and some clots were visible the patient developed significant pain and chills urology was consulted blood and urine cultures grew pansensitive e coli and the patient was put on ceftriaxone with rapid improvement in his symptoms urology followed the patient and one day prior to discharge his foley was pulled the patient was able to void normally with no post void residual his hematuria had resolved days prior to discharge he will need to follow up with urology as an outpatient s p fall he was in the bathroom and tripped on edge of shower hitting his head on the hand rail the fall was witnessed no loss of conscious however his inr was supratheraputic so he had a head ct which did not show any evidence of intracranial hemorrhage he did well following this incident with no complications contact dr last name stitle telephone fax son first name4 namepattern1 known lastname medications on admission aspirin mg daily carvedilol mg hospital1 lisinopril mg daily amiodarone mg daily increased to 400mg at osh atorvastatin mg daily warfarin mg daily levothyroxine mcg daily ativan mg p o qhs p r n daily ketaconazole cream topical hospital1 testosterone injections every two weeks discharge medications aspirin mg tablet chewable sig one tablet chewable po daily daily carvedilol mg tablet sig one tablet po bid times a day atorvastatin mg tablet sig one tablet po daily daily levothyroxine mcg tablet sig one tablet po daily daily lorazepam mg tablet sig one tablet po hs at bedtime as needed furosemide mg tablet sig one tablet po daily daily disp tablet s refills lisinopril mg tablet sig one tablet po daily daily disp tablet s refills finasteride mg tablet sig one tablet po daily daily disp tablet s refills warfarin mg tablet sig one tablet po hs at bedtime disp tablet s refills discharge disposition home with service facility hospital homecare discharge diagnosis wide complex tachycardia bacteremia urinary tract infection hematuria discharge condition stable ambulatory on room air sinus rhythm normal urination discharge instructions admitted for an abnormal rhythm in your heart the places in the heart that were causing the abnormal rhythm were ablated by the electrophysiology service please keep your follow up appointments and take all your medications new medications have been added to your regimen you developed also hematuria blood in your urine and an infection in your bladder and bloodstream which was treated with antibiotics you need to follow up with urology call your doctor or go to the ed if you feel any symptoms that concern you for example chest pain shortness of breath further bleeding or others see your primary care doctor as soon as possible to resume your usual health care and inr checks followup instructions call your primary care doctor within one week of discharge call your urologist within two weeks call your cardiologist within two weeks also see provider first name8 namepattern2 first name8 namepattern2 last name namepattern1 m d phone telephone fax date time'],\n",
       "      dtype=object)"
      ]
     },
     "execution_count": 11,
     "metadata": {},
     "output_type": "execute_result"
    }
   ],
   "source": [
    "df.TEXT.values[1000:1020]"
   ]
  },
  {
   "cell_type": "code",
   "execution_count": 12,
   "metadata": {
    "collapsed": true
   },
   "outputs": [],
   "source": [
    "#Tokens and types\n",
    "types = set()\n",
    "num_tok = 0\n",
    "for row in df.itertuples():\n",
    "    for w in row[4].split():\n",
    "        types.add(w)\n",
    "        num_tok += 1"
   ]
  },
  {
   "cell_type": "code",
   "execution_count": 13,
   "metadata": {},
   "outputs": [
    {
     "name": "stdout",
     "output_type": "stream",
     "text": [
      "Num types 150854\n",
      "Num tokens 79801387\n"
     ]
    }
   ],
   "source": [
    "print(\"Num types\", len(types))\n",
    "print(\"Num tokens\", str(num_tok))"
   ]
  },
  {
   "cell_type": "code",
   "execution_count": 14,
   "metadata": {
    "collapsed": true
   },
   "outputs": [],
   "source": [
    "#Let's sort by SUBJECT_ID and HADM_ID to make a correspondence with the MIMIC-3 label file\n",
    "df = df.sort_values(['SUBJECT_ID', 'HADM_ID'])"
   ]
  },
  {
   "cell_type": "code",
   "execution_count": 15,
   "metadata": {},
   "outputs": [
    {
     "name": "stderr",
     "output_type": "stream",
     "text": [
      "/tmp/ipykernel_559195/1618252027.py:2: DtypeWarning: Columns (4) have mixed types. Specify dtype option on import or set low_memory=False.\n",
      "  dfl = pd.read_csv('%s/ALL_CODES.csv' % MIMIC_3_DIR)\n"
     ]
    }
   ],
   "source": [
    "#Sort the label file by the same\n",
    "dfl = pd.read_csv('%s/ALL_CODES.csv' % MIMIC_3_DIR)\n",
    "dfl = dfl.sort_values(['SUBJECT_ID', 'HADM_ID'])"
   ]
  },
  {
   "cell_type": "code",
   "execution_count": 16,
   "metadata": {},
   "outputs": [
    {
     "data": {
      "text/plain": [
       "(52726, 58976)"
      ]
     },
     "execution_count": 16,
     "metadata": {},
     "output_type": "execute_result"
    }
   ],
   "source": [
    "len(df['HADM_ID'].unique()), len(dfl['HADM_ID'].unique())"
   ]
  },
  {
   "attachments": {},
   "cell_type": "markdown",
   "metadata": {},
   "source": [
    "## Consolidate labels with set of discharge summaries"
   ]
  },
  {
   "attachments": {},
   "cell_type": "markdown",
   "metadata": {},
   "source": [
    "Looks like there were some HADM_ID's that didn't have discharge summaries, so they weren't included with our notes"
   ]
  },
  {
   "cell_type": "code",
   "execution_count": 20,
   "metadata": {
    "collapsed": true
   },
   "outputs": [],
   "source": [
    "#Let's filter out these HADM_ID's\n",
    "hadm_ids = set(df['HADM_ID'])\n",
    "with open('%s/ALL_CODES.csv' % MIMIC_3_DIR, 'r') as lf:\n",
    "    with open('%s/ALL_CODES_filtered.csv' % MIMIC_3_DIR, 'w') as of:\n",
    "        w = csv.writer(of)\n",
    "        w.writerow(['SUBJECT_ID', 'HADM_ID', 'ICD9_CODE', 'ADMITTIME', 'DISCHTIME'])\n",
    "        r = csv.reader(lf)\n",
    "        #header\n",
    "        next(r)\n",
    "        for i,row in enumerate(r):\n",
    "            hadm_id = int(row[2])\n",
    "            #print(hadm_id)\n",
    "            #break\n",
    "            if hadm_id in hadm_ids:\n",
    "                w.writerow(row[1:3] + [row[-1], '', ''])"
   ]
  },
  {
   "cell_type": "code",
   "execution_count": 17,
   "metadata": {},
   "outputs": [],
   "source": [
    "dfl = pd.read_csv('%s/ALL_CODES_filtered.csv' % MIMIC_3_DIR, index_col=None)"
   ]
  },
  {
   "cell_type": "code",
   "execution_count": 26,
   "metadata": {},
   "outputs": [
    {
     "data": {
      "text/html": [
       "<div>\n",
       "<style scoped>\n",
       "    .dataframe tbody tr th:only-of-type {\n",
       "        vertical-align: middle;\n",
       "    }\n",
       "\n",
       "    .dataframe tbody tr th {\n",
       "        vertical-align: top;\n",
       "    }\n",
       "\n",
       "    .dataframe thead th {\n",
       "        text-align: right;\n",
       "    }\n",
       "</style>\n",
       "<table border=\"1\" class=\"dataframe\">\n",
       "  <thead>\n",
       "    <tr style=\"text-align: right;\">\n",
       "      <th></th>\n",
       "      <th>SUBJECT_ID</th>\n",
       "      <th>HADM_ID</th>\n",
       "      <th>ICD9_CODE</th>\n",
       "      <th>ADMITTIME</th>\n",
       "      <th>DISCHTIME</th>\n",
       "    </tr>\n",
       "  </thead>\n",
       "  <tbody>\n",
       "    <tr>\n",
       "      <th>0</th>\n",
       "      <td>109</td>\n",
       "      <td>172335</td>\n",
       "      <td>403.01</td>\n",
       "      <td>NaN</td>\n",
       "      <td>NaN</td>\n",
       "    </tr>\n",
       "    <tr>\n",
       "      <th>1</th>\n",
       "      <td>109</td>\n",
       "      <td>172335</td>\n",
       "      <td>486</td>\n",
       "      <td>NaN</td>\n",
       "      <td>NaN</td>\n",
       "    </tr>\n",
       "    <tr>\n",
       "      <th>2</th>\n",
       "      <td>109</td>\n",
       "      <td>172335</td>\n",
       "      <td>582.81</td>\n",
       "      <td>NaN</td>\n",
       "      <td>NaN</td>\n",
       "    </tr>\n",
       "    <tr>\n",
       "      <th>3</th>\n",
       "      <td>109</td>\n",
       "      <td>172335</td>\n",
       "      <td>585.5</td>\n",
       "      <td>NaN</td>\n",
       "      <td>NaN</td>\n",
       "    </tr>\n",
       "    <tr>\n",
       "      <th>4</th>\n",
       "      <td>109</td>\n",
       "      <td>172335</td>\n",
       "      <td>425.4</td>\n",
       "      <td>NaN</td>\n",
       "      <td>NaN</td>\n",
       "    </tr>\n",
       "  </tbody>\n",
       "</table>\n",
       "</div>"
      ],
      "text/plain": [
       "   SUBJECT_ID  HADM_ID ICD9_CODE  ADMITTIME  DISCHTIME\n",
       "0         109   172335    403.01        NaN        NaN\n",
       "1         109   172335       486        NaN        NaN\n",
       "2         109   172335    582.81        NaN        NaN\n",
       "3         109   172335     585.5        NaN        NaN\n",
       "4         109   172335     425.4        NaN        NaN"
      ]
     },
     "execution_count": 26,
     "metadata": {},
     "output_type": "execute_result"
    }
   ],
   "source": [
    "dfl.head()"
   ]
  },
  {
   "cell_type": "code",
   "execution_count": 18,
   "metadata": {},
   "outputs": [
    {
     "data": {
      "text/plain": [
       "52726"
      ]
     },
     "execution_count": 18,
     "metadata": {},
     "output_type": "execute_result"
    }
   ],
   "source": [
    "len(dfl['HADM_ID'].unique())"
   ]
  },
  {
   "cell_type": "code",
   "execution_count": 29,
   "metadata": {
    "collapsed": true
   },
   "outputs": [],
   "source": [
    "#we still need to sort it by HADM_ID\n",
    "dfl = dfl.sort_values(['SUBJECT_ID', 'HADM_ID'])\n",
    "dfl.to_csv('%s/ALL_CODES_filtered.csv' % MIMIC_3_DIR, index=False)"
   ]
  },
  {
   "attachments": {},
   "cell_type": "markdown",
   "metadata": {},
   "source": [
    "## Append labels to notes in a single file"
   ]
  },
  {
   "cell_type": "code",
   "execution_count": 30,
   "metadata": {
    "collapsed": true
   },
   "outputs": [],
   "source": [
    "#Now let's append each instance with all of its codes\n",
    "#this is pretty non-trivial so let's use this script I wrote, which requires the notes to be written to file\n",
    "sorted_file = '%s/disch_full.csv' % MIMIC_3_DIR\n",
    "df.to_csv(sorted_file, index=False)"
   ]
  },
  {
   "cell_type": "code",
   "execution_count": 31,
   "metadata": {},
   "outputs": [
    {
     "name": "stdout",
     "output_type": "stream",
     "text": [
      "CONCATENATING\n",
      "0 done\n",
      "10000 done\n",
      "20000 done\n",
      "30000 done\n",
      "40000 done\n",
      "50000 done\n"
     ]
    }
   ],
   "source": [
    "labeled = concat_and_split.concat_data('%s/ALL_CODES_filtered.csv' % MIMIC_3_DIR, sorted_file)"
   ]
  },
  {
   "cell_type": "code",
   "execution_count": 32,
   "metadata": {},
   "outputs": [
    {
     "name": "stdout",
     "output_type": "stream",
     "text": [
      "/media/lixc/TOSHIBA EXT/data/mimic/mimicd/data/notes_labeled.csv\n"
     ]
    }
   ],
   "source": [
    "#name of the file we just made\n",
    "print(labeled)"
   ]
  },
  {
   "attachments": {},
   "cell_type": "markdown",
   "metadata": {},
   "source": [
    "Let's sanity check the combined data we just made. Do we have all hadm id's accounted for, and the same vocab stats?"
   ]
  },
  {
   "cell_type": "code",
   "execution_count": 2,
   "metadata": {
    "collapsed": true
   },
   "outputs": [],
   "source": [
    "# ***************************************************\n",
    "# rerun can start from here\n",
    "\n",
    "labeled = \"/media/lixc/TOSHIBA EXT/data/mimic/mimicd/data/notes_labeled.csv\"\n",
    "dfnl = pd.read_csv(labeled)\n",
    "#Tokens and types\n",
    "types = set()\n",
    "num_tok = 0\n",
    "for row in dfnl.itertuples():\n",
    "    for w in row[3].split():\n",
    "        types.add(w)\n",
    "        num_tok += 1"
   ]
  },
  {
   "cell_type": "code",
   "execution_count": 20,
   "metadata": {},
   "outputs": [
    {
     "name": "stdout",
     "output_type": "stream",
     "text": [
      "num types 150854 num tokens 79801387\n"
     ]
    }
   ],
   "source": [
    "print(\"num types\", len(types), \"num tokens\", num_tok)"
   ]
  },
  {
   "cell_type": "code",
   "execution_count": 21,
   "metadata": {},
   "outputs": [
    {
     "data": {
      "text/plain": [
       "52726"
      ]
     },
     "execution_count": 21,
     "metadata": {},
     "output_type": "execute_result"
    }
   ],
   "source": [
    "len(dfnl['HADM_ID'].unique())"
   ]
  },
  {
   "attachments": {},
   "cell_type": "markdown",
   "metadata": {},
   "source": [
    "## Create train/dev/test splits"
   ]
  },
  {
   "cell_type": "code",
   "execution_count": 22,
   "metadata": {
    "scrolled": true
   },
   "outputs": [
    {
     "name": "stdout",
     "output_type": "stream",
     "text": [
      "SPLITTING\n",
      "0 read\n",
      "10000 read\n",
      "20000 read\n",
      "30000 read\n",
      "40000 read\n",
      "50000 read\n"
     ]
    }
   ],
   "source": [
    " \n",
    "\n",
    "fname = '%s/notes_labeled.csv' % MIMIC_3_DIR\n",
    "base_name = \"%s/disch\" % PROJECT_DIR #for output\n",
    "tr, dv, te = concat_and_split.split_data(fname, base_name=base_name)"
   ]
  },
  {
   "attachments": {},
   "cell_type": "markdown",
   "metadata": {},
   "source": [
    "## Build vocabulary from training data"
   ]
  },
  {
   "cell_type": "code",
   "execution_count": 23,
   "metadata": {
    "scrolled": true
   },
   "outputs": [
    {
     "name": "stdout",
     "output_type": "stream",
     "text": [
      "reading in data...\n",
      "removing rare terms\n",
      "51917 terms qualify out of 140795 total\n",
      "writing output\n"
     ]
    }
   ],
   "source": [
    "vocab_min = 3\n",
    "vname = '%s/vocab.csv' % MIMIC_3_DIR\n",
    "build_vocab.build_vocab(vocab_min, tr, vname)"
   ]
  },
  {
   "attachments": {},
   "cell_type": "markdown",
   "metadata": {
    "collapsed": true
   },
   "source": [
    "## Sort each data split by length for batching"
   ]
  },
  {
   "cell_type": "code",
   "execution_count": 36,
   "metadata": {},
   "outputs": [],
   "source": []
  },
  {
   "cell_type": "code",
   "execution_count": 25,
   "metadata": {
    "collapsed": true
   },
   "outputs": [],
   "source": [
    "for splt in ['train', 'dev', 'test']:\n",
    "    filename = '%s/disch_%s_split.csv' % (PROJECT_DIR, splt)\n",
    "    df = pd.read_csv(filename)\n",
    "    df['length'] = df.apply(lambda row: len(str(row['TEXT']).split()), axis=1)\n",
    "    df = df.sort_values(['length'])\n",
    "    df.to_csv('%s/%s_full.csv' % (PROJECT_DIR, splt), index=False)"
   ]
  },
  {
   "cell_type": "code",
   "execution_count": 35,
   "metadata": {},
   "outputs": [
    {
     "data": {
      "text/plain": [
       "'4.1.2'"
      ]
     },
     "execution_count": 35,
     "metadata": {},
     "output_type": "execute_result"
    }
   ],
   "source": [
    "import gensim.models.word2vec as w2v\n",
    "import gensim\n",
    "gensim.__version__\n",
    "\n"
   ]
  },
  {
   "attachments": {},
   "cell_type": "markdown",
   "metadata": {},
   "source": [
    "## Pre-train word embeddings"
   ]
  },
  {
   "attachments": {},
   "cell_type": "markdown",
   "metadata": {},
   "source": [
    "Let's train word embeddings on all words"
   ]
  },
  {
   "cell_type": "code",
   "execution_count": 43,
   "metadata": {},
   "outputs": [
    {
     "data": {
      "text/plain": [
       "<module 'dataproc.word_embeddings' from '/home/lixc/Downloads/data/caml-mimic/notebooks/../dataproc/word_embeddings.py'>"
      ]
     },
     "execution_count": 43,
     "metadata": {},
     "output_type": "execute_result"
    }
   ],
   "source": [
    "# reload a module in Python,\n",
    "\n",
    "import importlib\n",
    "importlib.reload(word_embeddings)"
   ]
  },
  {
   "cell_type": "code",
   "execution_count": 3,
   "metadata": {},
   "outputs": [
    {
     "name": "stdout",
     "output_type": "stream",
     "text": [
      "building word2vec vocab on /media/lixc/TOSHIBA EXT/data/mimic/mimicd/data/disch_full.csv...\n",
      "training...\n",
      "writing embeddings to /media/lixc/TOSHIBA EXT/data/mimic/mimicd/data/processed_full.w2v\n"
     ]
    }
   ],
   "source": [
    "w2v_file = word_embeddings.word_embeddings('full', '%s/disch_full.csv' % MIMIC_3_DIR, 100, 0, 5)"
   ]
  },
  {
   "attachments": {},
   "cell_type": "markdown",
   "metadata": {},
   "source": [
    "## Write pre-trained word embeddings with new vocab"
   ]
  },
  {
   "cell_type": "code",
   "execution_count": 46,
   "metadata": {},
   "outputs": [
    {
     "data": {
      "text/plain": [
       "<module 'dataproc.extract_wvs' from '/home/lixc/Downloads/data/caml-mimic/notebooks/../dataproc/extract_wvs.py'>"
      ]
     },
     "execution_count": 46,
     "metadata": {},
     "output_type": "execute_result"
    }
   ],
   "source": [
    " \n",
    "importlib.reload(extract_wvs)"
   ]
  },
  {
   "cell_type": "code",
   "execution_count": 47,
   "metadata": {},
   "outputs": [
    {
     "name": "stderr",
     "output_type": "stream",
     "text": [
      "100%|██████████| 51917/51917 [00:00<00:00, 228593.77it/s]\n"
     ]
    }
   ],
   "source": [
    "extract_wvs.gensim_to_embeddings('%s/processed_full.w2v' % MIMIC_3_DIR, '%s/vocab.csv' % MIMIC_3_DIR, Y)"
   ]
  },
  {
   "attachments": {},
   "cell_type": "markdown",
   "metadata": {},
   "source": [
    "## Pre-process code descriptions using the vocab"
   ]
  },
  {
   "cell_type": "code",
   "execution_count": 64,
   "metadata": {},
   "outputs": [],
   "source": [
    "importlib.reload(vocab_index_descriptions)\n",
    "importlib.reload(datasets)\n",
    "\n",
    "\n",
    "\n",
    "DATA_DIR = '/media/lixc/TOSHIBA EXT/data/mimic/mimicd/data'"
   ]
  },
  {
   "cell_type": "markdown",
   "metadata": {},
   "source": [
    "create vocabulory vector"
   ]
  },
  {
   "cell_type": "code",
   "execution_count": 4,
   "metadata": {
    "scrolled": true
   },
   "outputs": [
    {
     "name": "stderr",
     "output_type": "stream",
     "text": [
      "100%|██████████| 22267/22267 [00:00<00:00, 162276.89it/s]\n"
     ]
    }
   ],
   "source": [
    "vocab_index_descriptions.vocab_index_descriptions('%s/vocab.csv' % MIMIC_3_DIR,\n",
    "                                                  '%s/description_vectors.vocab' % MIMIC_3_DIR)"
   ]
  },
  {
   "attachments": {},
   "cell_type": "markdown",
   "metadata": {},
   "source": [
    "## Filter each split to the top 50 diagnosis/procedure codes"
   ]
  },
  {
   "cell_type": "code",
   "execution_count": 5,
   "metadata": {
    "collapsed": true
   },
   "outputs": [],
   "source": [
    "Y = 50"
   ]
  },
  {
   "cell_type": "code",
   "execution_count": 6,
   "metadata": {
    "collapsed": true
   },
   "outputs": [],
   "source": [
    "#first calculate the top k\n",
    "counts = Counter()\n",
    "dfnl = pd.read_csv('%s/notes_labeled.csv' % MIMIC_3_DIR)\n",
    "for row in dfnl.itertuples():\n",
    "    for label in str(row[4]).split(';'):\n",
    "        counts[label] += 1"
   ]
  },
  {
   "cell_type": "code",
   "execution_count": 7,
   "metadata": {
    "collapsed": true
   },
   "outputs": [],
   "source": [
    "codes_50 = sorted(counts.items(), key=operator.itemgetter(1), reverse=True)"
   ]
  },
  {
   "cell_type": "code",
   "execution_count": 10,
   "metadata": {
    "collapsed": true
   },
   "outputs": [],
   "source": [
    "codes_50 = [code[0] for code in codes_50[:Y]]"
   ]
  },
  {
   "cell_type": "code",
   "execution_count": 11,
   "metadata": {
    "collapsed": true
   },
   "outputs": [],
   "source": [
    "with open('%s/TOP_%s_CODES.csv' % (MIMIC_3_DIR, str(Y)), 'w') as of:\n",
    "    w = csv.writer(of)\n",
    "    for code in codes_50:\n",
    "        w.writerow([code])"
   ]
  },
  {
   "cell_type": "code",
   "execution_count": 12,
   "metadata": {},
   "outputs": [
    {
     "name": "stdout",
     "output_type": "stream",
     "text": [
      "train\n",
      "dev\n",
      "test\n"
     ]
    }
   ],
   "source": [
    "for splt in ['train', 'dev', 'test']:\n",
    "    print(splt)\n",
    "    hadm_ids = set()\n",
    "    with open('%s/%s_50_hadm_ids.csv' % (PROJECT_DIR, splt), 'r') as f:\n",
    "        for line in f:\n",
    "            hadm_ids.add(line.rstrip())\n",
    "    with open('%s/notes_labeled.csv' % MIMIC_3_DIR, 'r') as f:\n",
    "        with open('%s/%s_%s.csv' % (PROJECT_DIR, splt, str(Y)), 'w') as of:\n",
    "            r = csv.reader(f)\n",
    "            w = csv.writer(of)\n",
    "            #header\n",
    "            w.writerow(next(r))\n",
    "            i = 0\n",
    "            for row in r:\n",
    "                hadm_id = row[1]\n",
    "                if hadm_id not in hadm_ids:\n",
    "                    continue\n",
    "                codes = set(str(row[3]).split(';'))\n",
    "                filtered_codes = codes.intersection(set(codes_50))\n",
    "                if len(filtered_codes) > 0:\n",
    "                    w.writerow(row[:3] + [';'.join(filtered_codes)])\n",
    "                    i += 1"
   ]
  },
  {
   "cell_type": "code",
   "execution_count": 39,
   "metadata": {
    "collapsed": true
   },
   "outputs": [],
   "source": [
    "for splt in ['train', 'dev', 'test']:\n",
    "    filename = '%s/%s_%s.csv' % (PROJECT_DIR, splt, str(Y))\n",
    "    df = pd.read_csv(filename)\n",
    "    df['length'] = df.apply(lambda row: len(str(row['TEXT']).split()), axis=1)\n",
    "    df = df.sort_values(['length'])\n",
    "    df.to_csv('%s/%s_%s.csv' % (PROJECT_DIR, splt, str(Y)), index=False)"
   ]
  }
 ],
 "metadata": {
  "kernelspec": {
   "display_name": "Python 3",
   "language": "python",
   "name": "python3"
  },
  "language_info": {
   "codemirror_mode": {
    "name": "ipython",
    "version": 3
   },
   "file_extension": ".py",
   "mimetype": "text/x-python",
   "name": "python",
   "nbconvert_exporter": "python",
   "pygments_lexer": "ipython3",
   "version": "3.10.9"
  }
 },
 "nbformat": 4,
 "nbformat_minor": 2
}
